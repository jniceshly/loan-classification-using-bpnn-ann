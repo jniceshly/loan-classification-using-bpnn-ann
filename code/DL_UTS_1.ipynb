{
  "cells": [
    {
      "cell_type": "markdown",
      "metadata": {
        "id": "nIUGWbER1RIl"
      },
      "source": [
        "**Deep Learning - UTS Nomor 1**\n",
        "\n",
        "**Nama: Janice Ashley Kurniawan**\n",
        "\n",
        "**NIM: 2602203794**"
      ]
    },
    {
      "cell_type": "code",
      "execution_count": null,
      "metadata": {
        "id": "PpWkc8unZzMe"
      },
      "outputs": [],
      "source": [
        "# importing libraries\n",
        "\n",
        "import pandas as pd\n",
        "import numpy as np\n",
        "import warnings\n",
        "import random\n",
        "\n",
        "import tensorflow as tf\n",
        "from tensorflow.keras.layers import Dense, Normalization, BatchNormalization\n",
        "from tensorflow.keras.models import Sequential,Model\n",
        "from tensorflow.keras.utils import plot_model\n",
        "\n",
        "import seaborn as sns\n",
        "from matplotlib import pyplot as plt\n",
        "\n",
        "from sklearn.model_selection import train_test_split\n",
        "from sklearn.preprocessing import StandardScaler\n",
        "from sklearn.metrics import accuracy_score, precision_score, recall_score, f1_score\n",
        "\n",
        "warnings.filterwarnings('ignore')\n",
        "SEED_VALUE=123\n",
        "random.seed(SEED_VALUE)\n",
        "np.random.seed(SEED_VALUE)"
      ]
    },
    {
      "cell_type": "code",
      "execution_count": null,
      "metadata": {
        "id": "5PdlkUA5bWQ0"
      },
      "outputs": [],
      "source": [
        "# reading data\n",
        "\n",
        "df = pd.read_csv(\"../dataset/Bank_Loan_Granting.csv\")"
      ]
    },
    {
      "cell_type": "code",
      "execution_count": null,
      "metadata": {
        "colab": {
          "base_uri": "https://localhost:8080/",
          "height": 206
        },
        "id": "HHrh3Uk79km0",
        "outputId": "e181a042-f67c-4461-b8eb-009a4f86072e"
      },
      "outputs": [
        {
          "data": {
            "text/html": [
              "<div>\n",
              "<style scoped>\n",
              "    .dataframe tbody tr th:only-of-type {\n",
              "        vertical-align: middle;\n",
              "    }\n",
              "\n",
              "    .dataframe tbody tr th {\n",
              "        vertical-align: top;\n",
              "    }\n",
              "\n",
              "    .dataframe thead th {\n",
              "        text-align: right;\n",
              "    }\n",
              "</style>\n",
              "<table border=\"1\" class=\"dataframe\">\n",
              "  <thead>\n",
              "    <tr style=\"text-align: right;\">\n",
              "      <th></th>\n",
              "      <th>ID</th>\n",
              "      <th>Age</th>\n",
              "      <th>Experience</th>\n",
              "      <th>Income</th>\n",
              "      <th>ZIP Code</th>\n",
              "      <th>Family</th>\n",
              "      <th>CCAvg</th>\n",
              "      <th>Education</th>\n",
              "      <th>Mortgage</th>\n",
              "      <th>Personal Loan</th>\n",
              "      <th>Securities Account</th>\n",
              "      <th>CD Account</th>\n",
              "      <th>Online</th>\n",
              "      <th>CreditCard</th>\n",
              "    </tr>\n",
              "  </thead>\n",
              "  <tbody>\n",
              "    <tr>\n",
              "      <th>0</th>\n",
              "      <td>1</td>\n",
              "      <td>25</td>\n",
              "      <td>1</td>\n",
              "      <td>49</td>\n",
              "      <td>91107</td>\n",
              "      <td>4</td>\n",
              "      <td>1/60</td>\n",
              "      <td>1</td>\n",
              "      <td>0</td>\n",
              "      <td>0</td>\n",
              "      <td>1</td>\n",
              "      <td>0</td>\n",
              "      <td>0</td>\n",
              "      <td>0</td>\n",
              "    </tr>\n",
              "    <tr>\n",
              "      <th>1</th>\n",
              "      <td>2</td>\n",
              "      <td>45</td>\n",
              "      <td>19</td>\n",
              "      <td>34</td>\n",
              "      <td>90089</td>\n",
              "      <td>3</td>\n",
              "      <td>1/50</td>\n",
              "      <td>1</td>\n",
              "      <td>0</td>\n",
              "      <td>0</td>\n",
              "      <td>1</td>\n",
              "      <td>0</td>\n",
              "      <td>0</td>\n",
              "      <td>0</td>\n",
              "    </tr>\n",
              "    <tr>\n",
              "      <th>2</th>\n",
              "      <td>3</td>\n",
              "      <td>39</td>\n",
              "      <td>15</td>\n",
              "      <td>11</td>\n",
              "      <td>94720</td>\n",
              "      <td>1</td>\n",
              "      <td>1/00</td>\n",
              "      <td>1</td>\n",
              "      <td>0</td>\n",
              "      <td>0</td>\n",
              "      <td>0</td>\n",
              "      <td>0</td>\n",
              "      <td>0</td>\n",
              "      <td>0</td>\n",
              "    </tr>\n",
              "    <tr>\n",
              "      <th>3</th>\n",
              "      <td>4</td>\n",
              "      <td>35</td>\n",
              "      <td>9</td>\n",
              "      <td>100</td>\n",
              "      <td>94112</td>\n",
              "      <td>1</td>\n",
              "      <td>2/70</td>\n",
              "      <td>2</td>\n",
              "      <td>0</td>\n",
              "      <td>0</td>\n",
              "      <td>0</td>\n",
              "      <td>0</td>\n",
              "      <td>0</td>\n",
              "      <td>0</td>\n",
              "    </tr>\n",
              "    <tr>\n",
              "      <th>4</th>\n",
              "      <td>5</td>\n",
              "      <td>35</td>\n",
              "      <td>8</td>\n",
              "      <td>45</td>\n",
              "      <td>91330</td>\n",
              "      <td>4</td>\n",
              "      <td>1/00</td>\n",
              "      <td>2</td>\n",
              "      <td>0</td>\n",
              "      <td>0</td>\n",
              "      <td>0</td>\n",
              "      <td>0</td>\n",
              "      <td>0</td>\n",
              "      <td>1</td>\n",
              "    </tr>\n",
              "  </tbody>\n",
              "</table>\n",
              "</div>"
            ],
            "text/plain": [
              "   ID  Age  Experience  Income  ZIP Code  Family CCAvg  Education  Mortgage  \\\n",
              "0   1   25           1      49     91107       4  1/60          1         0   \n",
              "1   2   45          19      34     90089       3  1/50          1         0   \n",
              "2   3   39          15      11     94720       1  1/00          1         0   \n",
              "3   4   35           9     100     94112       1  2/70          2         0   \n",
              "4   5   35           8      45     91330       4  1/00          2         0   \n",
              "\n",
              "   Personal Loan  Securities Account  CD Account  Online  CreditCard  \n",
              "0              0                   1           0       0           0  \n",
              "1              0                   1           0       0           0  \n",
              "2              0                   0           0       0           0  \n",
              "3              0                   0           0       0           0  \n",
              "4              0                   0           0       0           1  "
            ]
          },
          "execution_count": 3,
          "metadata": {},
          "output_type": "execute_result"
        }
      ],
      "source": [
        "df.head()"
      ]
    },
    {
      "cell_type": "code",
      "execution_count": null,
      "metadata": {
        "colab": {
          "base_uri": "https://localhost:8080/",
          "height": 338
        },
        "id": "rND6Po1Vb39W",
        "outputId": "026bdaa1-ca3a-4f1d-9d86-0e8ff68745af"
      },
      "outputs": [
        {
          "data": {
            "text/html": [
              "<div>\n",
              "<style scoped>\n",
              "    .dataframe tbody tr th:only-of-type {\n",
              "        vertical-align: middle;\n",
              "    }\n",
              "\n",
              "    .dataframe tbody tr th {\n",
              "        vertical-align: top;\n",
              "    }\n",
              "\n",
              "    .dataframe thead th {\n",
              "        text-align: right;\n",
              "    }\n",
              "</style>\n",
              "<table border=\"1\" class=\"dataframe\">\n",
              "  <thead>\n",
              "    <tr style=\"text-align: right;\">\n",
              "      <th></th>\n",
              "      <th>ID</th>\n",
              "      <th>Age</th>\n",
              "      <th>Experience</th>\n",
              "      <th>Income</th>\n",
              "      <th>ZIP Code</th>\n",
              "      <th>Family</th>\n",
              "      <th>Education</th>\n",
              "      <th>Mortgage</th>\n",
              "      <th>Personal Loan</th>\n",
              "      <th>Securities Account</th>\n",
              "      <th>CD Account</th>\n",
              "      <th>Online</th>\n",
              "      <th>CreditCard</th>\n",
              "    </tr>\n",
              "  </thead>\n",
              "  <tbody>\n",
              "    <tr>\n",
              "      <th>count</th>\n",
              "      <td>5000.000000</td>\n",
              "      <td>5000.000000</td>\n",
              "      <td>5000.000000</td>\n",
              "      <td>5000.000000</td>\n",
              "      <td>5000.000000</td>\n",
              "      <td>5000.000000</td>\n",
              "      <td>5000.000000</td>\n",
              "      <td>5000.000000</td>\n",
              "      <td>5000.000000</td>\n",
              "      <td>5000.000000</td>\n",
              "      <td>5000.00000</td>\n",
              "      <td>5000.000000</td>\n",
              "      <td>5000.000000</td>\n",
              "    </tr>\n",
              "    <tr>\n",
              "      <th>mean</th>\n",
              "      <td>2500.500000</td>\n",
              "      <td>45.338400</td>\n",
              "      <td>20.104600</td>\n",
              "      <td>73.774200</td>\n",
              "      <td>93152.503000</td>\n",
              "      <td>2.396400</td>\n",
              "      <td>1.881000</td>\n",
              "      <td>56.498800</td>\n",
              "      <td>0.096000</td>\n",
              "      <td>0.104400</td>\n",
              "      <td>0.06040</td>\n",
              "      <td>0.596800</td>\n",
              "      <td>0.294000</td>\n",
              "    </tr>\n",
              "    <tr>\n",
              "      <th>std</th>\n",
              "      <td>1443.520003</td>\n",
              "      <td>11.463166</td>\n",
              "      <td>11.467954</td>\n",
              "      <td>46.033729</td>\n",
              "      <td>2121.852197</td>\n",
              "      <td>1.147663</td>\n",
              "      <td>0.839869</td>\n",
              "      <td>101.713802</td>\n",
              "      <td>0.294621</td>\n",
              "      <td>0.305809</td>\n",
              "      <td>0.23825</td>\n",
              "      <td>0.490589</td>\n",
              "      <td>0.455637</td>\n",
              "    </tr>\n",
              "    <tr>\n",
              "      <th>min</th>\n",
              "      <td>1.000000</td>\n",
              "      <td>23.000000</td>\n",
              "      <td>-3.000000</td>\n",
              "      <td>8.000000</td>\n",
              "      <td>9307.000000</td>\n",
              "      <td>1.000000</td>\n",
              "      <td>1.000000</td>\n",
              "      <td>0.000000</td>\n",
              "      <td>0.000000</td>\n",
              "      <td>0.000000</td>\n",
              "      <td>0.00000</td>\n",
              "      <td>0.000000</td>\n",
              "      <td>0.000000</td>\n",
              "    </tr>\n",
              "    <tr>\n",
              "      <th>25%</th>\n",
              "      <td>1250.750000</td>\n",
              "      <td>35.000000</td>\n",
              "      <td>10.000000</td>\n",
              "      <td>39.000000</td>\n",
              "      <td>91911.000000</td>\n",
              "      <td>1.000000</td>\n",
              "      <td>1.000000</td>\n",
              "      <td>0.000000</td>\n",
              "      <td>0.000000</td>\n",
              "      <td>0.000000</td>\n",
              "      <td>0.00000</td>\n",
              "      <td>0.000000</td>\n",
              "      <td>0.000000</td>\n",
              "    </tr>\n",
              "    <tr>\n",
              "      <th>50%</th>\n",
              "      <td>2500.500000</td>\n",
              "      <td>45.000000</td>\n",
              "      <td>20.000000</td>\n",
              "      <td>64.000000</td>\n",
              "      <td>93437.000000</td>\n",
              "      <td>2.000000</td>\n",
              "      <td>2.000000</td>\n",
              "      <td>0.000000</td>\n",
              "      <td>0.000000</td>\n",
              "      <td>0.000000</td>\n",
              "      <td>0.00000</td>\n",
              "      <td>1.000000</td>\n",
              "      <td>0.000000</td>\n",
              "    </tr>\n",
              "    <tr>\n",
              "      <th>75%</th>\n",
              "      <td>3750.250000</td>\n",
              "      <td>55.000000</td>\n",
              "      <td>30.000000</td>\n",
              "      <td>98.000000</td>\n",
              "      <td>94608.000000</td>\n",
              "      <td>3.000000</td>\n",
              "      <td>3.000000</td>\n",
              "      <td>101.000000</td>\n",
              "      <td>0.000000</td>\n",
              "      <td>0.000000</td>\n",
              "      <td>0.00000</td>\n",
              "      <td>1.000000</td>\n",
              "      <td>1.000000</td>\n",
              "    </tr>\n",
              "    <tr>\n",
              "      <th>max</th>\n",
              "      <td>5000.000000</td>\n",
              "      <td>67.000000</td>\n",
              "      <td>43.000000</td>\n",
              "      <td>224.000000</td>\n",
              "      <td>96651.000000</td>\n",
              "      <td>4.000000</td>\n",
              "      <td>3.000000</td>\n",
              "      <td>635.000000</td>\n",
              "      <td>1.000000</td>\n",
              "      <td>1.000000</td>\n",
              "      <td>1.00000</td>\n",
              "      <td>1.000000</td>\n",
              "      <td>1.000000</td>\n",
              "    </tr>\n",
              "  </tbody>\n",
              "</table>\n",
              "</div>"
            ],
            "text/plain": [
              "                ID          Age   Experience       Income      ZIP Code  \\\n",
              "count  5000.000000  5000.000000  5000.000000  5000.000000   5000.000000   \n",
              "mean   2500.500000    45.338400    20.104600    73.774200  93152.503000   \n",
              "std    1443.520003    11.463166    11.467954    46.033729   2121.852197   \n",
              "min       1.000000    23.000000    -3.000000     8.000000   9307.000000   \n",
              "25%    1250.750000    35.000000    10.000000    39.000000  91911.000000   \n",
              "50%    2500.500000    45.000000    20.000000    64.000000  93437.000000   \n",
              "75%    3750.250000    55.000000    30.000000    98.000000  94608.000000   \n",
              "max    5000.000000    67.000000    43.000000   224.000000  96651.000000   \n",
              "\n",
              "            Family    Education     Mortgage  Personal Loan  \\\n",
              "count  5000.000000  5000.000000  5000.000000    5000.000000   \n",
              "mean      2.396400     1.881000    56.498800       0.096000   \n",
              "std       1.147663     0.839869   101.713802       0.294621   \n",
              "min       1.000000     1.000000     0.000000       0.000000   \n",
              "25%       1.000000     1.000000     0.000000       0.000000   \n",
              "50%       2.000000     2.000000     0.000000       0.000000   \n",
              "75%       3.000000     3.000000   101.000000       0.000000   \n",
              "max       4.000000     3.000000   635.000000       1.000000   \n",
              "\n",
              "       Securities Account  CD Account       Online   CreditCard  \n",
              "count         5000.000000  5000.00000  5000.000000  5000.000000  \n",
              "mean             0.104400     0.06040     0.596800     0.294000  \n",
              "std              0.305809     0.23825     0.490589     0.455637  \n",
              "min              0.000000     0.00000     0.000000     0.000000  \n",
              "25%              0.000000     0.00000     0.000000     0.000000  \n",
              "50%              0.000000     0.00000     1.000000     0.000000  \n",
              "75%              0.000000     0.00000     1.000000     1.000000  \n",
              "max              1.000000     1.00000     1.000000     1.000000  "
            ]
          },
          "execution_count": 4,
          "metadata": {},
          "output_type": "execute_result"
        }
      ],
      "source": [
        "df.describe()"
      ]
    },
    {
      "cell_type": "markdown",
      "metadata": {
        "id": "pgLkR6C598KZ"
      },
      "source": [
        "# Data Preprocessing"
      ]
    },
    {
      "cell_type": "code",
      "execution_count": null,
      "metadata": {
        "colab": {
          "base_uri": "https://localhost:8080/"
        },
        "id": "pGAiHGP5ceZx",
        "outputId": "663cb24e-83a2-4641-b6d3-ec9fd2f841cc"
      },
      "outputs": [
        {
          "data": {
            "text/plain": [
              "ID                    0\n",
              "Age                   0\n",
              "Experience            0\n",
              "Income                0\n",
              "ZIP Code              0\n",
              "Family                0\n",
              "CCAvg                 0\n",
              "Education             0\n",
              "Mortgage              0\n",
              "Personal Loan         0\n",
              "Securities Account    0\n",
              "CD Account            0\n",
              "Online                0\n",
              "CreditCard            0\n",
              "dtype: int64"
            ]
          },
          "execution_count": 5,
          "metadata": {},
          "output_type": "execute_result"
        }
      ],
      "source": [
        "# checking for missing value\n",
        "\n",
        "df.isna().sum()"
      ]
    },
    {
      "cell_type": "markdown",
      "metadata": {
        "id": "mws7YJXdoPnu"
      },
      "source": [
        "result: tidak ada missing value pada dataset"
      ]
    },
    {
      "cell_type": "code",
      "execution_count": null,
      "metadata": {
        "colab": {
          "base_uri": "https://localhost:8080/"
        },
        "id": "m5CiJ80CcxYM",
        "outputId": "8ae40bd6-b45d-4a77-9bd6-cd8d113b50fe"
      },
      "outputs": [
        {
          "data": {
            "text/plain": [
              "0"
            ]
          },
          "execution_count": 6,
          "metadata": {},
          "output_type": "execute_result"
        }
      ],
      "source": [
        "# checking for duplicate rows\n",
        "\n",
        "df.duplicated().sum()"
      ]
    },
    {
      "cell_type": "markdown",
      "metadata": {
        "id": "TynmM6XEolI6"
      },
      "source": [
        "result: tidak ada duplicate rows pada dataset"
      ]
    },
    {
      "cell_type": "code",
      "execution_count": null,
      "metadata": {
        "id": "xBqiispac8Ws"
      },
      "outputs": [],
      "source": [
        "# dropping useless columns\n",
        "\n",
        "df.drop(columns = ['ID', 'ZIP Code'], axis = 1, inplace = True)"
      ]
    },
    {
      "cell_type": "markdown",
      "metadata": {
        "id": "SYegteCdo_O1"
      },
      "source": [
        "di sini saya menghilangkan kolom-kolom yang tidak berguna dan tidak diperlukan dalam memprediksi 'Personal Loan', yaitu 'ID' dan 'ZIP Code', karena kedua kolom tersebut tidak tidak membantu tahap training dan hanya berfungsi untuk mengidentifikasi tiap baris"
      ]
    },
    {
      "cell_type": "code",
      "execution_count": null,
      "metadata": {
        "colab": {
          "base_uri": "https://localhost:8080/"
        },
        "id": "_K0M26s_dc87",
        "outputId": "7b245381-97c4-40ce-dd39-1560da707cdf"
      },
      "outputs": [
        {
          "name": "stdout",
          "output_type": "stream",
          "text": [
            "Numerical Columns: ['Age', 'Experience', 'Income', 'Family', 'Education', 'Mortgage', 'Personal Loan', 'Securities Account', 'CD Account', 'Online', 'CreditCard']\n",
            "Categorical Column: ['CCAvg']\n"
          ]
        }
      ],
      "source": [
        "# membagi columns berdasarkan jenisnya (numerical atau categorical)\n",
        "\n",
        "num_cols = []\n",
        "cat_cols = []\n",
        "\n",
        "for i in df.columns:\n",
        "    if df[i].dtype == 'object':\n",
        "        cat_cols.append(i)\n",
        "    elif \"int\" in str(df[i].dtype) or \"float\" in str(df[i].dtype):\n",
        "        num_cols.append(i)\n",
        "\n",
        "print('Numerical Columns:', num_cols)\n",
        "print('Categorical Column:', cat_cols)"
      ]
    },
    {
      "cell_type": "code",
      "execution_count": null,
      "metadata": {
        "colab": {
          "base_uri": "https://localhost:8080/",
          "height": 300
        },
        "id": "i9Z5OGjDgbES",
        "outputId": "f9e1f9fa-795f-401b-910d-d7a29f99c63a"
      },
      "outputs": [
        {
          "data": {
            "text/html": [
              "<div>\n",
              "<style scoped>\n",
              "    .dataframe tbody tr th:only-of-type {\n",
              "        vertical-align: middle;\n",
              "    }\n",
              "\n",
              "    .dataframe tbody tr th {\n",
              "        vertical-align: top;\n",
              "    }\n",
              "\n",
              "    .dataframe thead th {\n",
              "        text-align: right;\n",
              "    }\n",
              "</style>\n",
              "<table border=\"1\" class=\"dataframe\">\n",
              "  <thead>\n",
              "    <tr style=\"text-align: right;\">\n",
              "      <th></th>\n",
              "      <th>Age</th>\n",
              "      <th>Experience</th>\n",
              "      <th>Income</th>\n",
              "      <th>Family</th>\n",
              "      <th>Education</th>\n",
              "      <th>Mortgage</th>\n",
              "      <th>Personal Loan</th>\n",
              "      <th>Securities Account</th>\n",
              "      <th>CD Account</th>\n",
              "      <th>Online</th>\n",
              "      <th>CreditCard</th>\n",
              "    </tr>\n",
              "  </thead>\n",
              "  <tbody>\n",
              "    <tr>\n",
              "      <th>count</th>\n",
              "      <td>5000.000000</td>\n",
              "      <td>5000.000000</td>\n",
              "      <td>5000.000000</td>\n",
              "      <td>5000.000000</td>\n",
              "      <td>5000.000000</td>\n",
              "      <td>5000.000000</td>\n",
              "      <td>5000.000000</td>\n",
              "      <td>5000.000000</td>\n",
              "      <td>5000.00000</td>\n",
              "      <td>5000.000000</td>\n",
              "      <td>5000.000000</td>\n",
              "    </tr>\n",
              "    <tr>\n",
              "      <th>mean</th>\n",
              "      <td>45.338400</td>\n",
              "      <td>20.104600</td>\n",
              "      <td>73.774200</td>\n",
              "      <td>2.396400</td>\n",
              "      <td>1.881000</td>\n",
              "      <td>56.498800</td>\n",
              "      <td>0.096000</td>\n",
              "      <td>0.104400</td>\n",
              "      <td>0.06040</td>\n",
              "      <td>0.596800</td>\n",
              "      <td>0.294000</td>\n",
              "    </tr>\n",
              "    <tr>\n",
              "      <th>std</th>\n",
              "      <td>11.463166</td>\n",
              "      <td>11.467954</td>\n",
              "      <td>46.033729</td>\n",
              "      <td>1.147663</td>\n",
              "      <td>0.839869</td>\n",
              "      <td>101.713802</td>\n",
              "      <td>0.294621</td>\n",
              "      <td>0.305809</td>\n",
              "      <td>0.23825</td>\n",
              "      <td>0.490589</td>\n",
              "      <td>0.455637</td>\n",
              "    </tr>\n",
              "    <tr>\n",
              "      <th>min</th>\n",
              "      <td>23.000000</td>\n",
              "      <td>-3.000000</td>\n",
              "      <td>8.000000</td>\n",
              "      <td>1.000000</td>\n",
              "      <td>1.000000</td>\n",
              "      <td>0.000000</td>\n",
              "      <td>0.000000</td>\n",
              "      <td>0.000000</td>\n",
              "      <td>0.00000</td>\n",
              "      <td>0.000000</td>\n",
              "      <td>0.000000</td>\n",
              "    </tr>\n",
              "    <tr>\n",
              "      <th>25%</th>\n",
              "      <td>35.000000</td>\n",
              "      <td>10.000000</td>\n",
              "      <td>39.000000</td>\n",
              "      <td>1.000000</td>\n",
              "      <td>1.000000</td>\n",
              "      <td>0.000000</td>\n",
              "      <td>0.000000</td>\n",
              "      <td>0.000000</td>\n",
              "      <td>0.00000</td>\n",
              "      <td>0.000000</td>\n",
              "      <td>0.000000</td>\n",
              "    </tr>\n",
              "    <tr>\n",
              "      <th>50%</th>\n",
              "      <td>45.000000</td>\n",
              "      <td>20.000000</td>\n",
              "      <td>64.000000</td>\n",
              "      <td>2.000000</td>\n",
              "      <td>2.000000</td>\n",
              "      <td>0.000000</td>\n",
              "      <td>0.000000</td>\n",
              "      <td>0.000000</td>\n",
              "      <td>0.00000</td>\n",
              "      <td>1.000000</td>\n",
              "      <td>0.000000</td>\n",
              "    </tr>\n",
              "    <tr>\n",
              "      <th>75%</th>\n",
              "      <td>55.000000</td>\n",
              "      <td>30.000000</td>\n",
              "      <td>98.000000</td>\n",
              "      <td>3.000000</td>\n",
              "      <td>3.000000</td>\n",
              "      <td>101.000000</td>\n",
              "      <td>0.000000</td>\n",
              "      <td>0.000000</td>\n",
              "      <td>0.00000</td>\n",
              "      <td>1.000000</td>\n",
              "      <td>1.000000</td>\n",
              "    </tr>\n",
              "    <tr>\n",
              "      <th>max</th>\n",
              "      <td>67.000000</td>\n",
              "      <td>43.000000</td>\n",
              "      <td>224.000000</td>\n",
              "      <td>4.000000</td>\n",
              "      <td>3.000000</td>\n",
              "      <td>635.000000</td>\n",
              "      <td>1.000000</td>\n",
              "      <td>1.000000</td>\n",
              "      <td>1.00000</td>\n",
              "      <td>1.000000</td>\n",
              "      <td>1.000000</td>\n",
              "    </tr>\n",
              "  </tbody>\n",
              "</table>\n",
              "</div>"
            ],
            "text/plain": [
              "               Age   Experience       Income       Family    Education  \\\n",
              "count  5000.000000  5000.000000  5000.000000  5000.000000  5000.000000   \n",
              "mean     45.338400    20.104600    73.774200     2.396400     1.881000   \n",
              "std      11.463166    11.467954    46.033729     1.147663     0.839869   \n",
              "min      23.000000    -3.000000     8.000000     1.000000     1.000000   \n",
              "25%      35.000000    10.000000    39.000000     1.000000     1.000000   \n",
              "50%      45.000000    20.000000    64.000000     2.000000     2.000000   \n",
              "75%      55.000000    30.000000    98.000000     3.000000     3.000000   \n",
              "max      67.000000    43.000000   224.000000     4.000000     3.000000   \n",
              "\n",
              "          Mortgage  Personal Loan  Securities Account  CD Account  \\\n",
              "count  5000.000000    5000.000000         5000.000000  5000.00000   \n",
              "mean     56.498800       0.096000            0.104400     0.06040   \n",
              "std     101.713802       0.294621            0.305809     0.23825   \n",
              "min       0.000000       0.000000            0.000000     0.00000   \n",
              "25%       0.000000       0.000000            0.000000     0.00000   \n",
              "50%       0.000000       0.000000            0.000000     0.00000   \n",
              "75%     101.000000       0.000000            0.000000     0.00000   \n",
              "max     635.000000       1.000000            1.000000     1.00000   \n",
              "\n",
              "            Online   CreditCard  \n",
              "count  5000.000000  5000.000000  \n",
              "mean      0.596800     0.294000  \n",
              "std       0.490589     0.455637  \n",
              "min       0.000000     0.000000  \n",
              "25%       0.000000     0.000000  \n",
              "50%       1.000000     0.000000  \n",
              "75%       1.000000     1.000000  \n",
              "max       1.000000     1.000000  "
            ]
          },
          "execution_count": 9,
          "metadata": {},
          "output_type": "execute_result"
        }
      ],
      "source": [
        "# cek numerical column\n",
        "\n",
        "df[num_cols].describe()"
      ]
    },
    {
      "cell_type": "code",
      "execution_count": null,
      "metadata": {
        "colab": {
          "base_uri": "https://localhost:8080/"
        },
        "id": "PamWK3VPhtSi",
        "outputId": "0ce7a7f8-68f2-4e52-edd8-45e1d498eb6e"
      },
      "outputs": [
        {
          "name": "stdout",
          "output_type": "stream",
          "text": [
            "CCAvg: 108\n",
            "['1/60' '1/50' '1/00' '2/70' '0/40' '0/30' '0/60' '8/90' '2/40' '0/10'\n",
            " '3/80' '2/50' '2/00' '4/70' '8/10' '0/50' '0/90' '1/20' '0/70' '3/90'\n",
            " '0/20' '2/20' '3/30' '1/80' '2/90' '1/40' '5/00' '2/30' '1/10' '5/70'\n",
            " '4/50' '2/10' '8/00' '1/70' '0/00' '2/80' '3/50' '4/00' '2/60' '1/30'\n",
            " '5/60' '5/20' '3/00' '4/60' '3/60' '7/20' '1/75' '7/40' '2/67' '7/50'\n",
            " '6/50' '7/80' '7/90' '4/10' '1/90' '4/30' '6/80' '5/10' '3/10' '0/80'\n",
            " '3/70' '6/20' '0/75' '2/33' '4/90' '0/67' '3/20' '5/50' '6/90' '4/33'\n",
            " '7/30' '4/20' '4/40' '6/10' '6/33' '6/60' '5/30' '3/40' '7/00' '6/30'\n",
            " '8/30' '6/00' '1/67' '8/60' '7/60' '6/40' '10/00' '5/90' '5/40' '8/80'\n",
            " '1/33' '9/00' '6/70' '4/25' '6/67' '5/80' '4/80' '3/25' '5/67' '8/50'\n",
            " '4/75' '4/67' '3/67' '8/20' '3/33' '5/33' '9/30' '2/75']\n"
          ]
        }
      ],
      "source": [
        "# cek categorical column\n",
        "\n",
        "for i in cat_cols:\n",
        "    print(f'{i}: {df[i].nunique()}')\n",
        "    print(df[i].unique())"
      ]
    },
    {
      "cell_type": "markdown",
      "metadata": {
        "id": "7dtvyizDslG1"
      },
      "source": [
        "selanjutnya saya akan mengencode kolom 'CCAvg' dari categorical menjadi numerical dengan menghitung hasil pembagian aslinya dan jika antara pembilang / penyebut nya bernilai nol maka hasilnya akan sama dengan nol"
      ]
    },
    {
      "cell_type": "code",
      "execution_count": null,
      "metadata": {
        "id": "2hh7KRrjjLGV"
      },
      "outputs": [],
      "source": [
        "for index, x in enumerate(df['CCAvg']) :\n",
        "  string_split = x.split('/')\n",
        "  upper_number = float(string_split[0])\n",
        "  lower_number = float(string_split[1])\n",
        "\n",
        "  if(upper_number == 0 or lower_number == 0) :\n",
        "    value = 0\n",
        "  else :\n",
        "    value = upper_number / lower_number\n",
        "\n",
        "  df['CCAvg'][index] = value"
      ]
    },
    {
      "cell_type": "code",
      "execution_count": null,
      "metadata": {
        "colab": {
          "base_uri": "https://localhost:8080/"
        },
        "id": "1HhgebCSkT5Q",
        "outputId": "6548d7c9-26b2-4e54-e31c-452e9b4bdbf4"
      },
      "outputs": [
        {
          "data": {
            "text/plain": [
              "0       0.016667\n",
              "1           0.02\n",
              "2              0\n",
              "3       0.028571\n",
              "4              0\n",
              "          ...   \n",
              "4995    0.011111\n",
              "4996           0\n",
              "4997           0\n",
              "4998           0\n",
              "4999           0\n",
              "Name: CCAvg, Length: 5000, dtype: object"
            ]
          },
          "execution_count": 12,
          "metadata": {},
          "output_type": "execute_result"
        }
      ],
      "source": [
        "df['CCAvg']"
      ]
    },
    {
      "cell_type": "code",
      "execution_count": null,
      "metadata": {
        "id": "esfUHWEAnDiE"
      },
      "outputs": [],
      "source": [
        "# ubah tipe data kolom 'CCAvg' dari object menjadi float\n",
        "\n",
        "df['CCAvg'] = df['CCAvg'].astype(float)"
      ]
    },
    {
      "cell_type": "code",
      "execution_count": null,
      "metadata": {
        "colab": {
          "base_uri": "https://localhost:8080/"
        },
        "id": "apGXyI_OnNLx",
        "outputId": "999626ab-420b-4799-9b94-30f0381352a9"
      },
      "outputs": [
        {
          "name": "stdout",
          "output_type": "stream",
          "text": [
            "<class 'pandas.core.frame.DataFrame'>\n",
            "RangeIndex: 5000 entries, 0 to 4999\n",
            "Data columns (total 12 columns):\n",
            " #   Column              Non-Null Count  Dtype  \n",
            "---  ------              --------------  -----  \n",
            " 0   Age                 5000 non-null   int64  \n",
            " 1   Experience          5000 non-null   int64  \n",
            " 2   Income              5000 non-null   int64  \n",
            " 3   Family              5000 non-null   int64  \n",
            " 4   CCAvg               5000 non-null   float64\n",
            " 5   Education           5000 non-null   int64  \n",
            " 6   Mortgage            5000 non-null   int64  \n",
            " 7   Personal Loan       5000 non-null   int64  \n",
            " 8   Securities Account  5000 non-null   int64  \n",
            " 9   CD Account          5000 non-null   int64  \n",
            " 10  Online              5000 non-null   int64  \n",
            " 11  CreditCard          5000 non-null   int64  \n",
            "dtypes: float64(1), int64(11)\n",
            "memory usage: 468.9 KB\n"
          ]
        }
      ],
      "source": [
        "# cek apakah semua columns pada dataset sudah baik untuk digunakan dalam mempredict 'Personal Loan'\n",
        "\n",
        "df.info()"
      ]
    },
    {
      "cell_type": "markdown",
      "metadata": {
        "id": "OZGI6O4h-JH7"
      },
      "source": [
        "# Data Exploration"
      ]
    },
    {
      "cell_type": "markdown",
      "metadata": {
        "id": "MoBWdsUjvLfC"
      },
      "source": [
        "pada bagian ini, saya akan memvisualisasikan data pada setiap kolom pada dataset untuk mengetahui pola distribusinya"
      ]
    },
    {
      "cell_type": "code",
      "execution_count": null,
      "metadata": {
        "colab": {
          "base_uri": "https://localhost:8080/",
          "height": 1000
        },
        "id": "OyqezEGsxZv9",
        "outputId": "00efd1f8-d12c-4ba8-bc59-2163e6272c9e"
      },
      "outputs": [
        {
          "data": {
            "image/png": "[encoded data removed]",
            "text/plain": [
              "<Figure size 600x400 with 1 Axes>"
            ]
          },
          "metadata": {},
          "output_type": "display_data"
        },
        {
          "data": {
            "image/png": "[encoded data removed]",
            "text/plain": [
              "<Figure size 600x400 with 1 Axes>"
            ]
          },
          "metadata": {},
          "output_type": "display_data"
        },
        {
          "data": {
            "image/png": "[encoded data removed]",
            "text/plain": [
              "<Figure size 600x400 with 1 Axes>"
            ]
          },
          "metadata": {},
          "output_type": "display_data"
        },
        {
          "data": {
            "image/png": "[encoded data removed]",
            "text/plain": [
              "<Figure size 600x400 with 1 Axes>"
            ]
          },
          "metadata": {},
          "output_type": "display_data"
        }
      ],
      "source": [
        "# histogram kolom 'Age'\n",
        "plt.figure(figsize=(6, 4))\n",
        "sns.histplot(data=df, x='Age', bins=20)\n",
        "plt.title('Distribution of Age')\n",
        "plt.xlabel('Age')\n",
        "plt.ylabel('Frequency')\n",
        "plt.show()\n",
        "\n",
        "# histogram kolom 'Age'\n",
        "plt.figure(figsize=(6, 4))\n",
        "sns.histplot(data=df, x='Experience', bins=20)\n",
        "plt.title('Distribution of Experience')\n",
        "plt.xlabel('Experience')\n",
        "plt.ylabel('Frequency')\n",
        "plt.show()\n",
        "\n",
        "# histogram kolom 'Income'\n",
        "plt.figure(figsize=(6, 4))\n",
        "sns.histplot(data=df, x='Income', bins=20)\n",
        "plt.title('Distribution of Income')\n",
        "plt.xlabel('Income')\n",
        "plt.ylabel('Frequency')\n",
        "plt.show()\n",
        "\n",
        "# linechart kolom 'Mortgage'\n",
        "hist_data, bin_edges = np.histogram(df['Mortgage'], bins=10)\n",
        "bin_centers = 0.5 * (bin_edges[:-1] + bin_edges[1:])\n",
        "plt.figure(figsize=(6, 4))\n",
        "plt.plot(bin_centers, hist_data, marker='o', linestyle='-')\n",
        "plt.title('Distribution of Mortgage')\n",
        "plt.xlabel('Mortgage')\n",
        "plt.ylabel('Frequency')\n",
        "plt.grid(True)\n",
        "plt.show()"
      ]
    },
    {
      "cell_type": "code",
      "execution_count": null,
      "metadata": {
        "colab": {
          "base_uri": "https://localhost:8080/"
        },
        "id": "CVz_LY_kAc6n",
        "outputId": "a2325a26-4fac-4032-e988-9733f7a330b1"
      },
      "outputs": [
        {
          "name": "stdout",
          "output_type": "stream",
          "text": [
            "CCAvg:  63\n",
            "CCAvg\n",
            "0.000000    2263\n",
            "0.100000     293\n",
            "0.025000     246\n",
            "0.033333     242\n",
            "0.050000     192\n",
            "            ... \n",
            "0.059701       1\n",
            "0.044776       1\n",
            "0.090909       1\n",
            "0.151515       1\n",
            "0.026667       1\n",
            "Name: count, Length: 63, dtype: int64\n"
          ]
        }
      ],
      "source": [
        "print('CCAvg: ', df['CCAvg'].nunique())\n",
        "print(df['CCAvg'].value_counts())"
      ]
    },
    {
      "cell_type": "code",
      "execution_count": null,
      "metadata": {
        "colab": {
          "base_uri": "https://localhost:8080/",
          "height": 1000
        },
        "id": "8fvownB2wzyo",
        "outputId": "3cd2270e-56ca-4ae6-c339-15ab72f179f9"
      },
      "outputs": [
        {
          "data": {
            "image/png": "[encoded data removed]",
            "text/plain": [
              "<Figure size 600x400 with 1 Axes>"
            ]
          },
          "metadata": {},
          "output_type": "display_data"
        },
        {
          "data": {
            "image/png": "[encoded data removed]",
            "text/plain": [
              "<Figure size 600x400 with 1 Axes>"
            ]
          },
          "metadata": {},
          "output_type": "display_data"
        },
        {
          "data": {
            "image/png": "[encoded data removed]",
            "text/plain": [
              "<Figure size 600x400 with 1 Axes>"
            ]
          },
          "metadata": {},
          "output_type": "display_data"
        },
        {
          "data": {
            "image/png": "[encoded data removed]",
            "text/plain": [
              "<Figure size 600x400 with 1 Axes>"
            ]
          },
          "metadata": {},
          "output_type": "display_data"
        }
      ],
      "source": [
        "# countplot kolom 'Securities Account'\n",
        "plt.figure(figsize=(6, 4))\n",
        "sns.countplot(x='Securities Account', data=df)\n",
        "plt.title('Distribution of Securities Account')\n",
        "plt.show()\n",
        "\n",
        "# countplot kolom 'CD Account'\n",
        "plt.figure(figsize=(6, 4))\n",
        "sns.countplot(x='CD Account', data=df)\n",
        "plt.title('Distribution of CD Account')\n",
        "plt.show()\n",
        "\n",
        "# countplot kolom 'Online'\n",
        "plt.figure(figsize=(6, 4))\n",
        "sns.countplot(x='Online', data=df)\n",
        "plt.title('Distribution of Online')\n",
        "plt.show()\n",
        "\n",
        "# countplot kolom 'CreditCard'\n",
        "plt.figure(figsize=(6, 4))\n",
        "sns.countplot(x='CreditCard', data=df)\n",
        "plt.title('Distribution of CreditCard')\n",
        "plt.show()"
      ]
    },
    {
      "cell_type": "code",
      "execution_count": null,
      "metadata": {
        "colab": {
          "base_uri": "https://localhost:8080/",
          "height": 871
        },
        "id": "XADlFgWLDc-U",
        "outputId": "f184ab10-2b04-43e6-9b00-324de300b189"
      },
      "outputs": [
        {
          "data": {
            "image/png": "[encoded data removed]",
            "text/plain": [
              "<Figure size 500x500 with 1 Axes>"
            ]
          },
          "metadata": {},
          "output_type": "display_data"
        },
        {
          "data": {
            "image/png": "[encoded data removed]",
            "text/plain": [
              "<Figure size 500x500 with 1 Axes>"
            ]
          },
          "metadata": {},
          "output_type": "display_data"
        }
      ],
      "source": [
        "# piechart kolom 'Family'\n",
        "category_counts = df['Family'].value_counts()\n",
        "plt.figure(figsize=(5, 5))\n",
        "plt.pie(category_counts, labels=category_counts.index, autopct='%1.1f%%', startangle=140)\n",
        "plt.axis('equal')\n",
        "plt.title('Distribution of Family')\n",
        "plt.show()\n",
        "\n",
        "# piechart kolom 'Education'\n",
        "category_counts = df['Education'].value_counts()\n",
        "plt.figure(figsize=(5, 5))\n",
        "plt.pie(category_counts, labels=category_counts.index, autopct='%1.1f%%', startangle=140)\n",
        "plt.axis('equal')\n",
        "plt.title('Distribution of Education')\n",
        "plt.show()"
      ]
    },
    {
      "cell_type": "code",
      "execution_count": null,
      "metadata": {
        "id": "oukT6u0Bdk_2",
        "outputId": "2f17c211-4d0f-4ba3-cee1-1f3d921f388a"
      },
      "outputs": [
        {
          "data": {
            "image/png": "[encoded data removed]",
            "text/plain": [
              "<Figure size 600x400 with 1 Axes>"
            ]
          },
          "metadata": {},
          "output_type": "display_data"
        }
      ],
      "source": [
        "# visualisasi menggunakan countplot untuk kolom 'Personal Loan' yang akan diprediksi pada model ini\n",
        "plt.figure(figsize=(6, 4))\n",
        "sns.countplot(x='Personal Loan', data=df)\n",
        "plt.title('Distribution of Personal Loan')\n",
        "plt.show()"
      ]
    },
    {
      "cell_type": "markdown",
      "metadata": {
        "id": "Ercvgi1owwbu"
      },
      "source": [
        "hasil visualisasi kolom 'Personal Loan' menunjukkan adanya class imbalance karena jumlah data dengan class 0 dan class 1 memiliki perbedaan yang sangat jauh (0 > 1), sehingga jika dibiarkan maka model yang dihasilkan akan lebih mengenali pola untuk mempredict nilai 0 daripada 1"
      ]
    },
    {
      "cell_type": "code",
      "execution_count": null,
      "metadata": {
        "id": "gGPlsrQnzGGy"
      },
      "outputs": [],
      "source": [
        "# creating features and label\n",
        "\n",
        "from tensorflow.keras.utils import to_categorical\n",
        "\n",
        "x = df.drop('Personal Loan', axis = 1)\n",
        "y = to_categorical(df['Personal Loan'])"
      ]
    },
    {
      "cell_type": "code",
      "execution_count": null,
      "metadata": {
        "colab": {
          "base_uri": "https://localhost:8080/"
        },
        "id": "l-iXKCZ2zU6r",
        "outputId": "417f8d82-63ca-4d35-b525-8754e5855201"
      },
      "outputs": [
        {
          "name": "stdout",
          "output_type": "stream",
          "text": [
            "(4000, 11) (4000, 2)\n",
            "(500, 11) (500, 2)\n",
            "(500, 11) (500, 2)\n"
          ]
        }
      ],
      "source": [
        "# splitting data into training set and test set\n",
        "\n",
        "x_train,x_test,y_train,y_test = train_test_split(x,y, test_size = 0.2,random_state = 123)\n",
        "x_test,x_val,y_test,y_val = train_test_split(x_test,y_test, test_size = 0.5,random_state = 123)\n",
        "print(x_train.shape,y_train.shape)\n",
        "print(x_val.shape,y_val.shape)\n",
        "print(x_test.shape,y_test.shape)"
      ]
    },
    {
      "cell_type": "code",
      "execution_count": null,
      "metadata": {
        "id": "ocK061G21PEk"
      },
      "outputs": [],
      "source": [
        "# # scaling data\n",
        "\n",
        "# scaling = StandardScaler()\n",
        "# x_train = scaling.fit_transform(x_train)\n",
        "# x_val = scaling.transform(x_val)\n",
        "# x_test = scaling.transform(x_test)"
      ]
    },
    {
      "cell_type": "code",
      "execution_count": null,
      "metadata": {
        "id": "8-3VMD-b1QCy"
      },
      "outputs": [],
      "source": [
        "# create tensor dataset\n",
        "\n",
        "train_ds = tf.data.Dataset.from_tensor_slices((x_train,y_train)).batch(32).shuffle(10)\n",
        "test_ds = tf.data.Dataset.from_tensor_slices((x_test,y_test)).batch(32).shuffle(10)\n",
        "val_ds = tf.data.Dataset.from_tensor_slices((x_val,y_val)).batch(32).shuffle(10)"
      ]
    },
    {
      "cell_type": "markdown",
      "metadata": {
        "id": "WwB66CFe-zq7"
      },
      "source": [
        "# Tantangan dan Kesulitan"
      ]
    },
    {
      "cell_type": "markdown",
      "metadata": {
        "id": "865OMHguAX1n"
      },
      "source": [
        "**Kualitas Data** (Data Kotor dan Hilang, Outliers) -> kualitas data pada dataset ini dapat dikatakan sudah baik karena tidak ada missing value dan duplicate rows.\n",
        "\n",
        "**Jenis Data** (Heterogenitas Fitur, Encoding Fitur Kategorikal, Skala dan Normalisasi) -> dari dataset ini hanya terdapat satu feature yang perlu diencode dari categorical menjadi numerical, yaitu column 'CCAvg'.\n",
        "\n",
        "**Ketidakseimbangan Kelas** (Class Imbalance) -> pada data ini terjadi class imbalance pada kolom 'Personal Loan', di mana jumlah class 0 jauh lebih banyak daripada class 1, sehingga nantinya model akan cenderung memprioritaskan kelas mayoritas dan mengabaikan kelas minoritas, yang dapat menghasilkan model yang tidak seimbang dan menurunkan kinerja model dalam memprediksi kelas minoritas dan meningkatkan jumlah false negative (FN) atau false positive (FP)."
      ]
    },
    {
      "cell_type": "markdown",
      "metadata": {
        "id": "EB09Q0nsPslg"
      },
      "source": [
        "# Baseline Architecture"
      ]
    },
    {
      "cell_type": "code",
      "execution_count": null,
      "metadata": {
        "colab": {
          "base_uri": "https://localhost:8080/"
        },
        "id": "grhJ1Cur1VL2",
        "outputId": "99c0c7af-d756-4cbb-af98-73b42d6b4ac5"
      },
      "outputs": [
        {
          "name": "stdout",
          "output_type": "stream",
          "text": [
            "Model: \"sequential\"\n",
            "_________________________________________________________________\n",
            " Layer (type)                Output Shape              Param #   \n",
            "=================================================================\n",
            " dense (Dense)               (None, 11)                132       \n",
            "                                                                 \n",
            " dense_1 (Dense)             (None, 22)                264       \n",
            "                                                                 \n",
            " dense_2 (Dense)             (None, 22)                506       \n",
            "                                                                 \n",
            " dense_3 (Dense)             (None, 2)                 46        \n",
            "                                                                 \n",
            "=================================================================\n",
            "Total params: 948 (3.70 KB)\n",
            "Trainable params: 948 (3.70 KB)\n",
            "Non-trainable params: 0 (0.00 Byte)\n",
            "_________________________________________________________________\n"
          ]
        }
      ],
      "source": [
        "# sequential API\n",
        "\n",
        "model = tf.keras.Sequential([\n",
        "    Dense(11, activation=\"relu\", input_shape=(11,)),\n",
        "    Dense(22, activation=\"relu\"),\n",
        "    Dense(22, activation=\"relu\"),\n",
        "    Dense(2, activation='sigmoid')\n",
        "])\n",
        "\n",
        "model.summary()"
      ]
    },
    {
      "cell_type": "code",
      "execution_count": null,
      "metadata": {
        "colab": {
          "base_uri": "https://localhost:8080/"
        },
        "id": "jwkRVflI2liW",
        "outputId": "2b243306-fe35-4e79-dbdf-d764b1ce775f"
      },
      "outputs": [
        {
          "name": "stdout",
          "output_type": "stream",
          "text": [
            "16/16 [==============================] - 0s 601us/step\n"
          ]
        },
        {
          "data": {
            "text/plain": [
              "array([[1.18550758e-09, 4.14170965e-04],\n",
              "       [4.61230934e-01, 9.91454542e-01],\n",
              "       [7.62094080e-01, 9.94850755e-01],\n",
              "       [8.99050236e-01, 9.82826531e-01],\n",
              "       [8.95956874e-01, 9.84810889e-01],\n",
              "       [9.92251277e-01, 8.95201743e-01],\n",
              "       [8.57369721e-01, 9.65071201e-01],\n",
              "       [9.59421396e-01, 8.36375833e-01],\n",
              "       [9.97430265e-01, 1.83128670e-01],\n",
              "       [1.16990987e-12, 7.83086929e-04],\n",
              "       [9.89424706e-01, 9.61585522e-01],\n",
              "       [8.05165396e-13, 1.27976818e-04],\n",
              "       [7.33182788e-01, 9.87625778e-01],\n",
              "       [9.53547895e-01, 9.29299176e-01],\n",
              "       [4.28206629e-18, 1.95637035e-08],\n",
              "       [8.30814600e-01, 9.87103462e-01],\n",
              "       [8.43379311e-10, 1.65905061e-04],\n",
              "       [8.61084223e-01, 9.66720760e-01],\n",
              "       [7.90531337e-01, 9.89681542e-01],\n",
              "       [9.07594204e-01, 9.64679062e-01],\n",
              "       [5.43110967e-01, 9.87812281e-01],\n",
              "       [4.27612465e-18, 8.40327459e-07],\n",
              "       [9.77189362e-01, 7.65603483e-01],\n",
              "       [3.88621265e-19, 1.02670006e-08],\n",
              "       [8.04866493e-01, 9.83949840e-01],\n",
              "       [7.47794218e-07, 1.87611580e-01],\n",
              "       [6.70469105e-01, 9.91170526e-01],\n",
              "       [7.77158439e-01, 9.96879578e-01],\n",
              "       [6.04166985e-01, 9.45420179e-05],\n",
              "       [9.59853169e-11, 1.88630412e-03],\n",
              "       [6.45707250e-01, 9.88650262e-01],\n",
              "       [2.38344863e-01, 9.89189565e-01],\n",
              "       [7.04224229e-01, 9.86928761e-01],\n",
              "       [7.61213303e-01, 9.90535080e-01],\n",
              "       [1.51338809e-05, 1.43470215e-02],\n",
              "       [1.57676667e-01, 9.95077729e-01],\n",
              "       [8.77537370e-01, 9.90258694e-01],\n",
              "       [9.52655315e-01, 9.47331131e-01],\n",
              "       [7.93101847e-01, 9.93851304e-01],\n",
              "       [2.20468655e-01, 9.94654953e-01],\n",
              "       [6.13971233e-01, 9.92010534e-01],\n",
              "       [6.51567221e-01, 9.95082617e-01],\n",
              "       [6.54896017e-16, 2.53718602e-03],\n",
              "       [9.64468479e-01, 9.00935054e-01],\n",
              "       [5.78258447e-02, 9.98993278e-01],\n",
              "       [6.77520752e-01, 9.92259443e-01],\n",
              "       [7.65828323e-03, 7.76403991e-04],\n",
              "       [9.77271378e-01, 9.52172816e-01],\n",
              "       [4.28922814e-10, 3.77063086e-04],\n",
              "       [2.65161723e-01, 9.95628834e-01],\n",
              "       [9.97333348e-01, 6.65185452e-01],\n",
              "       [2.11373299e-06, 2.04573814e-02],\n",
              "       [3.35543334e-01, 9.88311946e-01],\n",
              "       [9.92118299e-01, 3.94720763e-01],\n",
              "       [7.48350859e-01, 9.84994888e-01],\n",
              "       [2.88290796e-08, 5.50033583e-04],\n",
              "       [8.50841701e-01, 9.86683309e-01],\n",
              "       [7.34304070e-01, 9.90010500e-01],\n",
              "       [7.55529940e-01, 9.95883048e-01],\n",
              "       [8.71836007e-01, 9.90220428e-01],\n",
              "       [8.17078054e-01, 9.62652922e-01],\n",
              "       [7.48282492e-01, 9.95977879e-01],\n",
              "       [4.34736330e-06, 5.73910143e-07],\n",
              "       [2.48868605e-06, 1.31545648e-01],\n",
              "       [9.07180786e-01, 9.77960169e-01],\n",
              "       [1.21579103e-01, 9.94772434e-01],\n",
              "       [9.52757180e-01, 8.92440200e-01],\n",
              "       [3.65586514e-16, 9.28658294e-04],\n",
              "       [9.99521971e-01, 5.51082417e-02],\n",
              "       [4.61854567e-13, 1.23307565e-02],\n",
              "       [8.36907864e-01, 9.88044143e-01],\n",
              "       [5.88829815e-01, 9.81225312e-01],\n",
              "       [8.65445733e-01, 9.87637222e-01],\n",
              "       [1.17921166e-08, 9.52562899e-04],\n",
              "       [2.10643381e-01, 9.95494068e-01],\n",
              "       [9.95461583e-01, 3.16450119e-01],\n",
              "       [8.00772846e-01, 9.87456501e-01],\n",
              "       [9.82311726e-01, 8.57410073e-01],\n",
              "       [9.99645412e-01, 3.40032168e-02],\n",
              "       [9.99288797e-01, 1.10849962e-01],\n",
              "       [3.78954274e-14, 1.41304417e-06],\n",
              "       [8.16309953e-09, 9.25520062e-02],\n",
              "       [8.69438350e-01, 9.62261736e-01],\n",
              "       [9.97430265e-01, 3.41467768e-01],\n",
              "       [9.19662476e-01, 8.93462718e-01],\n",
              "       [6.93128228e-01, 9.96568739e-01],\n",
              "       [8.80523741e-01, 9.73702312e-01],\n",
              "       [6.86041057e-01, 9.98095393e-01],\n",
              "       [1.99383691e-01, 9.93186116e-01],\n",
              "       [6.32072210e-01, 9.78179038e-01],\n",
              "       [9.96602893e-01, 3.52711976e-01],\n",
              "       [7.04722643e-01, 9.86261606e-01],\n",
              "       [6.12955511e-01, 9.86931086e-01],\n",
              "       [9.35403754e-10, 1.87852569e-02],\n",
              "       [5.24962024e-06, 1.46386251e-02],\n",
              "       [6.43642261e-06, 7.83046533e-04],\n",
              "       [3.66987551e-11, 3.00466013e-03],\n",
              "       [8.18276703e-01, 9.89720464e-01],\n",
              "       [5.85127680e-09, 2.86284000e-01],\n",
              "       [7.26474702e-01, 9.98343885e-01],\n",
              "       [9.85158145e-01, 8.71709466e-01],\n",
              "       [1.94608763e-15, 2.62260642e-07],\n",
              "       [5.95762253e-01, 9.88967896e-01],\n",
              "       [9.97402012e-01, 5.24149179e-01],\n",
              "       [7.77252436e-01, 9.95594978e-01],\n",
              "       [9.84211802e-01, 7.51061499e-01],\n",
              "       [9.45286870e-01, 9.68163311e-01],\n",
              "       [9.99711096e-01, 2.96034794e-02],\n",
              "       [1.72249496e-01, 9.94456589e-01],\n",
              "       [9.65489388e-01, 9.75450933e-01],\n",
              "       [8.27053308e-01, 9.73920107e-01],\n",
              "       [7.62569726e-01, 9.68760252e-01],\n",
              "       [7.30779707e-01, 9.95403171e-01],\n",
              "       [9.45599198e-01, 9.68215406e-01],\n",
              "       [5.96879244e-01, 9.96663928e-01],\n",
              "       [3.17992431e-07, 1.06303537e-06],\n",
              "       [5.27284028e-05, 1.00570768e-02],\n",
              "       [7.24130392e-01, 9.69664335e-01],\n",
              "       [9.93952453e-01, 5.80216169e-01],\n",
              "       [9.98160243e-01, 1.52800903e-01],\n",
              "       [7.65179634e-01, 9.93361533e-01],\n",
              "       [1.61243752e-01, 4.88542901e-05],\n",
              "       [6.06372952e-04, 2.87040939e-06],\n",
              "       [1.67169020e-01, 9.97103393e-01],\n",
              "       [8.36891413e-01, 9.91732001e-01],\n",
              "       [1.50543377e-01, 9.97882783e-01],\n",
              "       [7.08233178e-01, 9.82019842e-01],\n",
              "       [6.76174579e-07, 2.59979744e-03],\n",
              "       [2.00406983e-02, 5.89013845e-03],\n",
              "       [9.83970106e-01, 5.66196561e-01],\n",
              "       [9.83334720e-01, 6.70389175e-01],\n",
              "       [9.85116959e-01, 8.32927346e-01],\n",
              "       [9.46916819e-01, 9.48645830e-01],\n",
              "       [9.73519146e-01, 7.56214380e-01],\n",
              "       [7.80388951e-01, 9.94119346e-01],\n",
              "       [6.91914279e-03, 6.22500433e-04],\n",
              "       [6.51692748e-01, 1.10868532e-05],\n",
              "       [9.95954096e-01, 3.33849669e-01],\n",
              "       [2.36688748e-01, 9.93489921e-01],\n",
              "       [3.84826961e-08, 1.86090870e-03],\n",
              "       [6.44415438e-01, 9.97474432e-01],\n",
              "       [7.08228886e-01, 9.80159819e-01],\n",
              "       [9.52076953e-05, 1.00834165e-02],\n",
              "       [6.89063966e-01, 9.83622134e-01],\n",
              "       [7.27815092e-01, 2.55439343e-04],\n",
              "       [9.73393619e-01, 8.95216107e-01],\n",
              "       [6.34423435e-01, 9.97653902e-01],\n",
              "       [1.28525376e-01, 9.93586719e-01],\n",
              "       [5.18076241e-01, 9.87018347e-01],\n",
              "       [1.00027173e-05, 7.11348772e-01],\n",
              "       [9.63632762e-01, 9.50365126e-01],\n",
              "       [9.41911757e-01, 9.61656988e-01],\n",
              "       [6.11114800e-01, 9.98036444e-01],\n",
              "       [7.68040836e-01, 9.84924376e-01],\n",
              "       [2.79711667e-19, 1.82189919e-09],\n",
              "       [1.46038413e-01, 9.97839689e-01],\n",
              "       [1.93872064e-01, 9.88853514e-01],\n",
              "       [9.61963117e-01, 9.25127208e-01],\n",
              "       [8.53043105e-07, 6.72829375e-02],\n",
              "       [9.64386821e-01, 9.52223778e-01],\n",
              "       [5.98703682e-01, 9.97691870e-01],\n",
              "       [7.27401542e-11, 3.26058827e-04],\n",
              "       [1.02344036e-01, 9.98305261e-01],\n",
              "       [4.56486305e-07, 3.37362464e-04],\n",
              "       [6.38078783e-13, 2.15605013e-02],\n",
              "       [2.77453810e-01, 9.95856285e-01],\n",
              "       [4.25447404e-01, 9.83139686e-03],\n",
              "       [7.00076163e-01, 1.74406596e-04],\n",
              "       [9.84912694e-01, 8.44113469e-01],\n",
              "       [7.00063705e-01, 9.81985390e-01],\n",
              "       [7.30788708e-01, 9.90010500e-01],\n",
              "       [7.75822173e-07, 3.48718166e-02],\n",
              "       [5.32928766e-07, 6.24801323e-04],\n",
              "       [8.95982981e-01, 9.70461547e-01],\n",
              "       [1.00986678e-02, 1.00860104e-03],\n",
              "       [6.60765648e-01, 9.89459753e-01],\n",
              "       [1.72738908e-07, 2.93184370e-01],\n",
              "       [9.84287620e-01, 9.57883120e-01],\n",
              "       [6.34653568e-01, 9.92389739e-01],\n",
              "       [9.31787550e-01, 9.86836791e-01],\n",
              "       [8.37940097e-01, 9.90821004e-01],\n",
              "       [5.12154747e-06, 5.71034491e-01],\n",
              "       [7.76102483e-01, 9.86330390e-01],\n",
              "       [7.92976916e-01, 9.86064494e-01],\n",
              "       [6.12814963e-01, 9.91721213e-01],\n",
              "       [1.21488597e-06, 5.65812826e-01],\n",
              "       [6.79531693e-01, 9.84714687e-01],\n",
              "       [1.58695385e-01, 9.97110963e-01],\n",
              "       [3.49512815e-01, 9.66696024e-01],\n",
              "       [8.70373011e-01, 9.71544027e-01],\n",
              "       [7.16799676e-01, 9.92687523e-01],\n",
              "       [7.35670984e-01, 9.83535469e-01],\n",
              "       [6.57908738e-01, 9.94665742e-01],\n",
              "       [1.23650454e-01, 4.96043684e-03],\n",
              "       [9.65585053e-01, 9.82687593e-01],\n",
              "       [1.21504532e-13, 2.80998727e-08],\n",
              "       [9.42618072e-01, 9.47404623e-01],\n",
              "       [4.70369279e-01, 9.94204283e-01],\n",
              "       [1.65994719e-01, 9.94884968e-01],\n",
              "       [6.86986622e-12, 9.18278005e-03],\n",
              "       [6.98136151e-01, 9.89409268e-01],\n",
              "       [3.82273611e-05, 1.01626329e-02],\n",
              "       [8.05564165e-01, 9.89783764e-01],\n",
              "       [5.79434666e-13, 5.73159428e-03],\n",
              "       [3.26258421e-01, 9.96685624e-01],\n",
              "       [3.37022185e-01, 9.97033894e-01],\n",
              "       [2.57604549e-10, 3.61649022e-02],\n",
              "       [5.42665042e-08, 7.14145775e-04],\n",
              "       [7.79310167e-01, 9.92016375e-01],\n",
              "       [7.80959672e-11, 1.08858429e-01],\n",
              "       [8.00360620e-01, 9.91642475e-01],\n",
              "       [9.96754885e-01, 4.42717433e-01],\n",
              "       [1.02426634e-09, 6.35026721e-03],\n",
              "       [6.37271702e-01, 9.94647503e-01],\n",
              "       [3.05140045e-11, 9.38305573e-04],\n",
              "       [7.67272711e-01, 9.90939558e-01],\n",
              "       [8.77337515e-01, 9.93780673e-01],\n",
              "       [1.18517637e-01, 9.95208144e-01],\n",
              "       [7.54886508e-01, 9.92019296e-01],\n",
              "       [7.35863328e-01, 9.84641194e-01],\n",
              "       [2.28026390e-01, 9.84109938e-01],\n",
              "       [2.63715655e-01, 9.96236861e-01],\n",
              "       [2.23266488e-05, 5.09700626e-02],\n",
              "       [1.85647018e-08, 3.90418209e-02],\n",
              "       [2.33573884e-01, 9.78258848e-01],\n",
              "       [5.49283492e-13, 7.49282162e-06],\n",
              "       [8.54324102e-01, 9.75984454e-01],\n",
              "       [1.01747811e-01, 9.96346533e-01],\n",
              "       [2.55253553e-01, 3.28399794e-04],\n",
              "       [4.10885605e-12, 3.89494198e-05],\n",
              "       [4.16907370e-01, 9.96303201e-01],\n",
              "       [4.06215668e-01, 9.94823217e-01],\n",
              "       [4.77037281e-01, 9.96060491e-01],\n",
              "       [8.88381422e-01, 9.86457467e-01],\n",
              "       [1.68532199e-09, 3.43446061e-03],\n",
              "       [5.37413625e-09, 3.66581534e-03],\n",
              "       [2.09530175e-04, 5.69950826e-05],\n",
              "       [6.02862782e-09, 1.11695062e-02],\n",
              "       [7.85367310e-01, 9.93120670e-01],\n",
              "       [1.29538051e-07, 7.27959268e-05],\n",
              "       [7.51863062e-01, 9.84826267e-01],\n",
              "       [2.23829899e-10, 1.29333418e-03],\n",
              "       [2.60605036e-12, 5.27813332e-04],\n",
              "       [2.71920264e-09, 8.11976008e-07],\n",
              "       [7.54804552e-01, 9.88955259e-01],\n",
              "       [8.82408202e-01, 9.56209958e-01],\n",
              "       [9.06652153e-01, 9.82801318e-01],\n",
              "       [9.83191609e-01, 7.76803851e-01],\n",
              "       [1.92445368e-01, 9.90866482e-01],\n",
              "       [8.74297508e-16, 9.05012348e-05],\n",
              "       [4.31955215e-07, 5.47685195e-04],\n",
              "       [9.99361515e-01, 6.73174188e-02],\n",
              "       [2.74282906e-14, 2.64247676e-04],\n",
              "       [8.71750951e-01, 9.89783406e-01],\n",
              "       [9.53514636e-01, 9.56899285e-01],\n",
              "       [8.06312799e-01, 9.86949384e-01],\n",
              "       [1.12779207e-06, 3.85544449e-01],\n",
              "       [9.87937212e-01, 6.49346530e-01],\n",
              "       [8.26641440e-01, 9.85384941e-01],\n",
              "       [6.68423116e-01, 9.86543179e-01],\n",
              "       [1.22304708e-01, 9.95904148e-01],\n",
              "       [9.98924255e-01, 2.58546770e-01],\n",
              "       [7.35159218e-01, 9.88548815e-01],\n",
              "       [6.90429545e-07, 2.02861193e-05],\n",
              "       [8.76365125e-01, 9.86632168e-01],\n",
              "       [7.78646331e-12, 4.73340100e-04],\n",
              "       [9.53577697e-01, 9.68568146e-01],\n",
              "       [5.18487692e-01, 9.93595004e-01],\n",
              "       [2.19874801e-06, 7.34506320e-05],\n",
              "       [9.98823941e-01, 5.16091526e-01],\n",
              "       [9.77113247e-01, 9.31978464e-01],\n",
              "       [9.93768871e-01, 6.23660088e-01],\n",
              "       [9.01490211e-01, 9.82869089e-01],\n",
              "       [1.45262220e-07, 1.33270070e-01],\n",
              "       [9.75796527e-11, 5.44730108e-04],\n",
              "       [3.39204005e-23, 4.09237771e-07],\n",
              "       [4.73890245e-01, 9.70445991e-01],\n",
              "       [9.98722970e-01, 1.67599365e-01],\n",
              "       [4.49286163e-01, 9.90891516e-01],\n",
              "       [9.95774627e-01, 3.25436592e-01],\n",
              "       [1.43838770e-06, 2.40396894e-05],\n",
              "       [7.20466226e-02, 9.98280168e-01],\n",
              "       [9.82248485e-01, 7.71867394e-01],\n",
              "       [9.83041167e-01, 9.65366602e-01],\n",
              "       [2.76890140e-17, 3.21679181e-07],\n",
              "       [7.49243081e-01, 9.83161330e-01],\n",
              "       [9.49755907e-01, 9.20653999e-01],\n",
              "       [9.52953756e-01, 9.57994342e-01],\n",
              "       [9.98913407e-01, 2.14521989e-01],\n",
              "       [8.49316195e-02, 9.98417377e-01],\n",
              "       [8.98325026e-01, 9.86723363e-01],\n",
              "       [7.70249486e-01, 9.94642019e-01],\n",
              "       [9.81894910e-01, 9.43093657e-01],\n",
              "       [8.58465254e-01, 9.71489966e-01],\n",
              "       [1.73437118e-04, 1.94194447e-03],\n",
              "       [9.12853777e-01, 9.37545896e-01],\n",
              "       [4.87900635e-08, 2.79000448e-03],\n",
              "       [5.04460372e-02, 3.65017477e-04],\n",
              "       [4.17845113e-05, 4.13843850e-03],\n",
              "       [8.79001558e-01, 9.81540561e-01],\n",
              "       [1.74442675e-06, 8.68394494e-01],\n",
              "       [9.09651995e-01, 9.56559002e-01],\n",
              "       [6.37902319e-01, 9.98612285e-01],\n",
              "       [9.99277830e-01, 6.62803501e-02],\n",
              "       [7.86691904e-01, 9.91565883e-01],\n",
              "       [9.44423079e-01, 9.81856823e-01],\n",
              "       [6.68377289e-12, 1.19374716e-03],\n",
              "       [8.75868917e-01, 9.58946049e-01],\n",
              "       [9.22309935e-01, 9.38407481e-01],\n",
              "       [8.09470296e-01, 9.92521942e-01],\n",
              "       [9.60044980e-01, 9.23042595e-01],\n",
              "       [9.74871278e-01, 8.88213634e-01],\n",
              "       [6.61397819e-18, 1.85424685e-02],\n",
              "       [9.24228565e-15, 3.33465375e-02],\n",
              "       [8.94545734e-01, 9.82705534e-01],\n",
              "       [1.75706627e-09, 4.47772996e-04],\n",
              "       [1.83886241e-05, 7.04668309e-06],\n",
              "       [6.63854718e-01, 9.95100081e-01],\n",
              "       [7.36893415e-01, 9.95128870e-01],\n",
              "       [4.50751871e-01, 9.76679146e-01],\n",
              "       [7.61424422e-01, 9.96167481e-01],\n",
              "       [3.73657123e-08, 1.55762874e-03],\n",
              "       [6.24907076e-01, 9.83706951e-01],\n",
              "       [7.03571260e-01, 9.89111245e-01],\n",
              "       [4.58471391e-07, 1.40372962e-01],\n",
              "       [4.58485305e-01, 9.96012330e-01],\n",
              "       [9.08857878e-10, 6.03751279e-03],\n",
              "       [4.53350246e-01, 9.93207276e-01],\n",
              "       [9.63139951e-01, 8.39835823e-01],\n",
              "       [1.49316804e-07, 1.95353152e-03],\n",
              "       [2.17365432e-05, 7.75116822e-03],\n",
              "       [9.92341518e-01, 6.85384810e-01],\n",
              "       [6.72998011e-01, 9.81992126e-01],\n",
              "       [7.47346938e-01, 9.91092801e-01],\n",
              "       [4.88534331e-01, 3.47641148e-02],\n",
              "       [9.96515453e-01, 5.18052816e-01],\n",
              "       [8.19932640e-01, 9.88495529e-01],\n",
              "       [6.00188375e-01, 9.96135652e-01],\n",
              "       [2.34902322e-01, 9.90309358e-01],\n",
              "       [6.16847754e-01, 9.96037960e-01],\n",
              "       [5.82493126e-01, 9.94323969e-01],\n",
              "       [1.68033391e-01, 9.93358433e-01],\n",
              "       [2.14330643e-01, 9.94213045e-01],\n",
              "       [9.29805684e-14, 8.60141995e-07],\n",
              "       [9.72115815e-01, 8.67338240e-01],\n",
              "       [9.98318851e-01, 2.57754296e-01],\n",
              "       [9.98196661e-01, 5.61058462e-01],\n",
              "       [9.97458220e-01, 3.73827606e-01],\n",
              "       [9.97479737e-01, 2.48444766e-01],\n",
              "       [8.73175859e-01, 9.81488407e-01],\n",
              "       [9.39331055e-01, 9.58608270e-01],\n",
              "       [7.31557190e-01, 9.96068835e-01],\n",
              "       [1.24365725e-01, 9.96379375e-01],\n",
              "       [3.71030450e-01, 3.59277353e-02],\n",
              "       [9.70546656e-16, 6.22345340e-07],\n",
              "       [1.27153322e-01, 9.93516326e-01],\n",
              "       [9.98489797e-01, 3.35232437e-01],\n",
              "       [8.25829625e-01, 9.83929694e-01],\n",
              "       [8.27026440e-07, 5.06926656e-01],\n",
              "       [9.95260060e-01, 4.38401967e-01],\n",
              "       [9.56812024e-01, 9.43818748e-01],\n",
              "       [9.42814438e-07, 3.46289098e-01],\n",
              "       [3.50998107e-06, 5.89843206e-02],\n",
              "       [9.29431379e-01, 9.78699446e-01],\n",
              "       [7.21199480e-16, 1.46590546e-03],\n",
              "       [7.36468375e-01, 9.86202478e-01],\n",
              "       [9.97453988e-01, 8.59508574e-01],\n",
              "       [9.95325446e-01, 5.13181746e-01],\n",
              "       [9.99851167e-01, 2.88792495e-02],\n",
              "       [6.65601730e-01, 9.76107895e-01],\n",
              "       [9.97878194e-01, 3.56242150e-01],\n",
              "       [7.63888597e-01, 9.90084529e-01],\n",
              "       [5.55912256e-01, 9.90603626e-01],\n",
              "       [5.28411090e-01, 9.86540973e-01],\n",
              "       [8.65968823e-01, 9.74149525e-01],\n",
              "       [7.73954153e-01, 9.89355206e-01],\n",
              "       [6.72854071e-07, 1.74839329e-03],\n",
              "       [3.97984117e-01, 9.84386861e-01],\n",
              "       [3.41092259e-01, 9.86440063e-01],\n",
              "       [3.05125354e-06, 2.65151709e-02],\n",
              "       [7.86281645e-01, 9.90427256e-01],\n",
              "       [7.53201604e-01, 9.84948158e-01],\n",
              "       [9.54450250e-01, 9.75714028e-01],\n",
              "       [7.22921159e-12, 1.13828290e-04],\n",
              "       [9.52073991e-01, 8.79471421e-01],\n",
              "       [1.77112511e-08, 4.46290505e-04],\n",
              "       [4.31425562e-09, 5.30541300e-08],\n",
              "       [3.07461892e-06, 9.21684653e-02],\n",
              "       [6.70731187e-01, 9.97428417e-01],\n",
              "       [1.79854325e-07, 6.17340319e-02],\n",
              "       [9.36491702e-08, 1.60079990e-02],\n",
              "       [3.20500821e-01, 9.93262529e-01],\n",
              "       [6.30031705e-01, 9.95097995e-01],\n",
              "       [9.90191162e-01, 7.58502245e-01],\n",
              "       [9.45614994e-01, 9.83570516e-01],\n",
              "       [1.99011162e-01, 9.94465590e-01],\n",
              "       [8.49380791e-01, 9.79541361e-01],\n",
              "       [3.07328795e-04, 3.58355348e-04],\n",
              "       [7.45798945e-01, 9.84488785e-01],\n",
              "       [9.60315287e-01, 9.46517467e-01],\n",
              "       [1.58792585e-01, 9.95410979e-01],\n",
              "       [1.17233060e-13, 8.55939506e-05],\n",
              "       [1.18244012e-10, 1.35550426e-05],\n",
              "       [6.28469467e-01, 9.90716279e-01],\n",
              "       [2.09913969e-01, 9.89394903e-01],\n",
              "       [5.95331751e-03, 9.59737878e-03],\n",
              "       [9.97031927e-01, 2.74676889e-01],\n",
              "       [6.65332735e-01, 9.74752545e-01],\n",
              "       [1.24785254e-15, 9.01218129e-07],\n",
              "       [6.03016451e-06, 4.37124167e-04],\n",
              "       [8.82407069e-01, 9.71020579e-01],\n",
              "       [2.32299879e-01, 9.96490896e-01],\n",
              "       [4.65128511e-01, 9.95878279e-01],\n",
              "       [6.70549154e-01, 9.95867252e-01],\n",
              "       [9.98132110e-01, 3.98153216e-01],\n",
              "       [9.00996327e-01, 9.72872078e-01],\n",
              "       [3.18426341e-10, 1.04659451e-02],\n",
              "       [9.81088877e-01, 9.62681472e-01],\n",
              "       [9.99386847e-01, 4.86103259e-02],\n",
              "       [9.63902771e-01, 8.35039616e-01],\n",
              "       [6.27800941e-01, 9.83617008e-01],\n",
              "       [8.93503070e-01, 9.85646248e-01],\n",
              "       [7.62242138e-01, 9.85210598e-01],\n",
              "       [7.18213022e-01, 9.93669212e-01],\n",
              "       [4.27658486e-09, 2.30081137e-02],\n",
              "       [5.23146927e-01, 9.95399415e-01],\n",
              "       [7.73813963e-01, 9.90823925e-01],\n",
              "       [9.98317778e-01, 2.63734370e-01],\n",
              "       [7.46796429e-01, 9.69911575e-01],\n",
              "       [1.94882438e-01, 9.82649922e-01],\n",
              "       [1.95287004e-01, 9.93832111e-01],\n",
              "       [9.99634743e-01, 7.05771148e-02],\n",
              "       [5.64646065e-01, 9.81725514e-01],\n",
              "       [8.16294700e-02, 9.98415709e-01],\n",
              "       [3.27366964e-18, 6.18927239e-04],\n",
              "       [3.56896460e-04, 2.11724769e-02],\n",
              "       [9.89750385e-01, 7.82331824e-01],\n",
              "       [6.87855065e-01, 9.84843850e-01],\n",
              "       [4.06569445e-14, 1.26292296e-02],\n",
              "       [1.57979116e-11, 1.16974209e-03],\n",
              "       [4.50917900e-01, 9.92889524e-01],\n",
              "       [6.07050657e-01, 9.86752629e-01],\n",
              "       [6.39448106e-01, 9.83962953e-01],\n",
              "       [7.52219535e-07, 9.69841785e-05],\n",
              "       [1.39761751e-05, 7.49743953e-02],\n",
              "       [1.73251956e-13, 2.00236496e-03],\n",
              "       [6.25000775e-01, 9.93882179e-01],\n",
              "       [1.94100276e-01, 9.94012475e-01],\n",
              "       [2.78519015e-20, 2.44438866e-07],\n",
              "       [2.34570161e-05, 3.31869419e-03],\n",
              "       [9.99843001e-01, 2.29125265e-02],\n",
              "       [5.41917443e-01, 9.94310379e-01],\n",
              "       [6.24810517e-01, 9.96703386e-01],\n",
              "       [7.11366838e-13, 1.70107916e-04],\n",
              "       [7.52731442e-01, 9.74368989e-01],\n",
              "       [9.57107842e-01, 9.22416687e-01],\n",
              "       [9.78778422e-01, 8.63583982e-01],\n",
              "       [3.84160310e-01, 4.91528027e-03],\n",
              "       [7.78829992e-01, 9.89634275e-01],\n",
              "       [1.48872145e-17, 2.25120743e-06],\n",
              "       [4.20781576e-10, 1.02468710e-02],\n",
              "       [5.93512774e-01, 9.82556641e-01],\n",
              "       [9.97482240e-01, 2.06319243e-01],\n",
              "       [7.80097365e-01, 9.69371021e-01],\n",
              "       [8.32127333e-01, 9.85282481e-01],\n",
              "       [1.62468240e-01, 9.95242655e-01],\n",
              "       [1.81885228e-01, 9.91823912e-01],\n",
              "       [4.57168081e-10, 2.49761082e-02],\n",
              "       [9.77692068e-01, 8.21888268e-01],\n",
              "       [9.12209153e-01, 9.80171323e-01],\n",
              "       [5.82901838e-10, 4.95344226e-04],\n",
              "       [1.41555160e-01, 3.81032266e-02],\n",
              "       [9.69614446e-01, 8.86951268e-01],\n",
              "       [7.63586640e-01, 9.95956540e-01],\n",
              "       [1.99067190e-01, 9.89521861e-01],\n",
              "       [9.87082660e-01, 9.12408829e-01],\n",
              "       [6.30362451e-01, 9.97916400e-01],\n",
              "       [9.77692008e-01, 8.35370004e-01],\n",
              "       [1.51405530e-03, 7.99691043e-05],\n",
              "       [9.95749950e-01, 2.65507221e-01],\n",
              "       [2.66898222e-11, 7.94975495e-05],\n",
              "       [7.18302786e-01, 9.93305445e-01],\n",
              "       [5.18719494e-01, 9.86533046e-01],\n",
              "       [8.30904663e-01, 9.81612384e-01],\n",
              "       [1.62684580e-03, 4.12312476e-03],\n",
              "       [9.29755092e-01, 9.71968412e-01],\n",
              "       [7.79546042e-07, 3.97263438e-01],\n",
              "       [5.41921542e-11, 2.64266014e-01],\n",
              "       [9.94174242e-01, 6.60090625e-01],\n",
              "       [6.91417634e-01, 9.96981263e-01],\n",
              "       [8.36067736e-01, 9.91246521e-01],\n",
              "       [2.28763074e-01, 9.91123855e-01],\n",
              "       [7.80370712e-01, 9.84427929e-01],\n",
              "       [1.23506254e-13, 2.89469717e-05],\n",
              "       [9.63361919e-01, 7.93497622e-01],\n",
              "       [6.78852260e-01, 9.95068312e-01],\n",
              "       [9.90186870e-01, 7.88886726e-01],\n",
              "       [3.53639375e-11, 2.15022801e-03],\n",
              "       [9.60441589e-01, 9.31122839e-01],\n",
              "       [9.93381858e-01, 5.71439683e-01]], dtype=float32)"
            ]
          },
          "execution_count": 25,
          "metadata": {},
          "output_type": "execute_result"
        }
      ],
      "source": [
        "model.predict(val_ds)"
      ]
    },
    {
      "cell_type": "code",
      "execution_count": null,
      "metadata": {
        "id": "OEsG-Oyj4Q4d"
      },
      "outputs": [],
      "source": [
        "x = tf.constant([[i for i in range(0,10)]])"
      ]
    },
    {
      "cell_type": "code",
      "execution_count": null,
      "metadata": {
        "id": "879jJqn84hUr",
        "outputId": "d1d64265-12b7-4434-c9f6-a114fcc6d3fd"
      },
      "outputs": [
        {
          "data": {
            "text/plain": [
              "<tf.Tensor: shape=(1, 10), dtype=int32, numpy=array([[0, 1, 2, 3, 4, 5, 6, 7, 8, 9]])>"
            ]
          },
          "execution_count": 27,
          "metadata": {},
          "output_type": "execute_result"
        }
      ],
      "source": [
        "x"
      ]
    },
    {
      "cell_type": "code",
      "execution_count": null,
      "metadata": {
        "id": "QU9OsMKg4iB9"
      },
      "outputs": [],
      "source": [
        "# train model\n",
        "\n",
        "model.compile(optimizer=tf.keras.optimizers.Adam(learning_rate=1e-3)\n",
        "              ,loss='binary_crossentropy'\n",
        "              , metrics=[tf.keras.metrics.BinaryAccuracy(),tf.keras.metrics.Precision(),tf.keras.metrics.Recall(), tf.keras.metrics.F1Score()])"
      ]
    },
    {
      "cell_type": "code",
      "execution_count": null,
      "metadata": {
        "colab": {
          "base_uri": "https://localhost:8080/"
        },
        "id": "9Id4cpPM4oyi",
        "outputId": "5d8ac031-589b-4f73-b3d7-3a149aa9f610"
      },
      "outputs": [
        {
          "name": "stdout",
          "output_type": "stream",
          "text": [
            "Epoch 1/15\n",
            "125/125 [==============================] - 1s 2ms/step - loss: 0.8293 - binary_accuracy: 0.8202 - precision: 0.8085 - recall: 0.8393 - f1_score: 0.4982 - val_loss: 0.2891 - val_binary_accuracy: 0.8950 - val_precision: 0.8791 - val_recall: 0.9160 - val_f1_score: 0.6188\n",
            "Epoch 2/15\n",
            "125/125 [==============================] - 0s 1ms/step - loss: 0.3057 - binary_accuracy: 0.8859 - precision: 0.8805 - recall: 0.8930 - f1_score: 0.5568 - val_loss: 0.2485 - val_binary_accuracy: 0.8820 - val_precision: 0.8835 - val_recall: 0.8800 - val_f1_score: 0.6830\n",
            "Epoch 3/15\n",
            "125/125 [==============================] - 0s 978us/step - loss: 0.2704 - binary_accuracy: 0.8888 - precision: 0.8870 - recall: 0.8910 - f1_score: 0.6013 - val_loss: 0.2156 - val_binary_accuracy: 0.9010 - val_precision: 0.9018 - val_recall: 0.9000 - val_f1_score: 0.7077\n",
            "Epoch 4/15\n",
            "125/125 [==============================] - 0s 971us/step - loss: 0.2511 - binary_accuracy: 0.8939 - precision: 0.8932 - recall: 0.8947 - f1_score: 0.5949 - val_loss: 0.1978 - val_binary_accuracy: 0.9140 - val_precision: 0.9207 - val_recall: 0.9060 - val_f1_score: 0.4977\n",
            "Epoch 5/15\n",
            "125/125 [==============================] - 0s 973us/step - loss: 0.2429 - binary_accuracy: 0.8985 - precision: 0.8999 - recall: 0.8967 - f1_score: 0.6225 - val_loss: 0.2083 - val_binary_accuracy: 0.9130 - val_precision: 0.9155 - val_recall: 0.9100 - val_f1_score: 0.4997\n",
            "Epoch 6/15\n",
            "125/125 [==============================] - 0s 965us/step - loss: 0.2377 - binary_accuracy: 0.9013 - precision: 0.9025 - recall: 0.8997 - f1_score: 0.6371 - val_loss: 0.2103 - val_binary_accuracy: 0.9130 - val_precision: 0.9122 - val_recall: 0.9140 - val_f1_score: 0.4775\n",
            "Epoch 7/15\n",
            "125/125 [==============================] - 0s 976us/step - loss: 0.2253 - binary_accuracy: 0.9049 - precision: 0.9064 - recall: 0.9030 - f1_score: 0.6350 - val_loss: 0.1905 - val_binary_accuracy: 0.9120 - val_precision: 0.9137 - val_recall: 0.9100 - val_f1_score: 0.4987\n",
            "Epoch 8/15\n",
            "125/125 [==============================] - 0s 977us/step - loss: 0.2244 - binary_accuracy: 0.9015 - precision: 0.9013 - recall: 0.9018 - f1_score: 0.6373 - val_loss: 0.1952 - val_binary_accuracy: 0.9160 - val_precision: 0.9160 - val_recall: 0.9160 - val_f1_score: 0.5008\n",
            "Epoch 9/15\n",
            "125/125 [==============================] - 0s 987us/step - loss: 0.2149 - binary_accuracy: 0.9065 - precision: 0.9083 - recall: 0.9043 - f1_score: 0.6543 - val_loss: 0.1792 - val_binary_accuracy: 0.9250 - val_precision: 0.9110 - val_recall: 0.9420 - val_f1_score: 0.7431\n",
            "Epoch 10/15\n",
            "125/125 [==============================] - 0s 981us/step - loss: 0.2125 - binary_accuracy: 0.9104 - precision: 0.9140 - recall: 0.9060 - f1_score: 0.6682 - val_loss: 0.2015 - val_binary_accuracy: 0.9070 - val_precision: 0.9078 - val_recall: 0.9060 - val_f1_score: 0.6107\n",
            "Epoch 11/15\n",
            "125/125 [==============================] - 0s 965us/step - loss: 0.1905 - binary_accuracy: 0.9162 - precision: 0.9181 - recall: 0.9140 - f1_score: 0.6915 - val_loss: 0.1698 - val_binary_accuracy: 0.9140 - val_precision: 0.9124 - val_recall: 0.9160 - val_f1_score: 0.5368\n",
            "Epoch 12/15\n",
            "125/125 [==============================] - 0s 977us/step - loss: 0.1965 - binary_accuracy: 0.9180 - precision: 0.9212 - recall: 0.9143 - f1_score: 0.6932 - val_loss: 0.1900 - val_binary_accuracy: 0.9330 - val_precision: 0.9356 - val_recall: 0.9300 - val_f1_score: 0.6930\n",
            "Epoch 13/15\n",
            "125/125 [==============================] - 0s 978us/step - loss: 0.1868 - binary_accuracy: 0.9258 - precision: 0.9307 - recall: 0.9200 - f1_score: 0.7255 - val_loss: 0.1615 - val_binary_accuracy: 0.9210 - val_precision: 0.9202 - val_recall: 0.9220 - val_f1_score: 0.5842\n",
            "Epoch 14/15\n",
            "125/125 [==============================] - 0s 968us/step - loss: 0.1752 - binary_accuracy: 0.9275 - precision: 0.9303 - recall: 0.9243 - f1_score: 0.7291 - val_loss: 0.1531 - val_binary_accuracy: 0.9290 - val_precision: 0.9316 - val_recall: 0.9260 - val_f1_score: 0.6349\n",
            "Epoch 15/15\n",
            "125/125 [==============================] - 0s 965us/step - loss: 0.1819 - binary_accuracy: 0.9245 - precision: 0.9279 - recall: 0.9205 - f1_score: 0.7307 - val_loss: 0.1408 - val_binary_accuracy: 0.9420 - val_precision: 0.9420 - val_recall: 0.9420 - val_f1_score: 0.7614\n"
          ]
        }
      ],
      "source": [
        "history = model.fit(train_ds,validation_data=val_ds,epochs = 15)"
      ]
    },
    {
      "cell_type": "code",
      "execution_count": null,
      "metadata": {
        "colab": {
          "base_uri": "https://localhost:8080/"
        },
        "id": "DbVroZKx3uPC",
        "outputId": "230ad4ae-ed4d-4920-a049-125d53a6b25c"
      },
      "outputs": [
        {
          "data": {
            "text/plain": [
              "{'loss': [0.8292849063873291,\n",
              "  0.3057291507720947,\n",
              "  0.27042633295059204,\n",
              "  0.25112345814704895,\n",
              "  0.24293431639671326,\n",
              "  0.2376580387353897,\n",
              "  0.2253442257642746,\n",
              "  0.22443439066410065,\n",
              "  0.21489550173282623,\n",
              "  0.21253252029418945,\n",
              "  0.19048285484313965,\n",
              "  0.19649477303028107,\n",
              "  0.1868221014738083,\n",
              "  0.1752362847328186,\n",
              "  0.18194645643234253],\n",
              " 'binary_accuracy': [0.8202499747276306,\n",
              "  0.8858749866485596,\n",
              "  0.8887500166893005,\n",
              "  0.893875002861023,\n",
              "  0.8985000252723694,\n",
              "  0.9012500047683716,\n",
              "  0.9048749804496765,\n",
              "  0.9014999866485596,\n",
              "  0.906499981880188,\n",
              "  0.9103749990463257,\n",
              "  0.9162499904632568,\n",
              "  0.9179999828338623,\n",
              "  0.9257500171661377,\n",
              "  0.9275000095367432,\n",
              "  0.9244999885559082],\n",
              " 'precision': [0.8085260391235352,\n",
              "  0.8804535269737244,\n",
              "  0.8870084881782532,\n",
              "  0.8931869268417358,\n",
              "  0.8998996615409851,\n",
              "  0.9024573564529419,\n",
              "  0.9063990116119385,\n",
              "  0.9012993574142456,\n",
              "  0.9083375334739685,\n",
              "  0.91399747133255,\n",
              "  0.9181315898895264,\n",
              "  0.9211586713790894,\n",
              "  0.9307031035423279,\n",
              "  0.9302969574928284,\n",
              "  0.9279233813285828],\n",
              " 'recall': [0.8392500281333923,\n",
              "  0.8930000066757202,\n",
              "  0.890999972820282,\n",
              "  0.8947499990463257,\n",
              "  0.8967499732971191,\n",
              "  0.8997499942779541,\n",
              "  0.902999997138977,\n",
              "  0.9017500281333923,\n",
              "  0.9042500257492065,\n",
              "  0.906000018119812,\n",
              "  0.9139999747276306,\n",
              "  0.9142500162124634,\n",
              "  0.9200000166893005,\n",
              "  0.9242500066757202,\n",
              "  0.9204999804496765],\n",
              " 'f1_score': [array([0.9205919 , 0.07582939], dtype=float32),\n",
              "  array([0.94094014, 0.17260787], dtype=float32),\n",
              "  array([0.9418903, 0.2607204], dtype=float32),\n",
              "  array([0.9432796 , 0.24642856], dtype=float32),\n",
              "  array([0.94630605, 0.29876977], dtype=float32),\n",
              "  array([0.9458328, 0.3283082], dtype=float32),\n",
              "  array([0.949362 , 0.3207207], dtype=float32),\n",
              "  array([0.94641656, 0.32825717], dtype=float32),\n",
              "  array([0.950303  , 0.35826087], dtype=float32),\n",
              "  array([0.9524707 , 0.38394415], dtype=float32),\n",
              "  array([0.956276  , 0.42680776], dtype=float32),\n",
              "  array([0.9558189 , 0.43055555], dtype=float32),\n",
              "  array([0.95951414, 0.49152538], dtype=float32),\n",
              "  array([0.96078694, 0.49740934], dtype=float32),\n",
              "  array([0.9604748, 0.5008518], dtype=float32)],\n",
              " 'val_loss': [0.28909221291542053,\n",
              "  0.24853619933128357,\n",
              "  0.21561302244663239,\n",
              "  0.19781343638896942,\n",
              "  0.20833414793014526,\n",
              "  0.21030426025390625,\n",
              "  0.19047249853610992,\n",
              "  0.19517412781715393,\n",
              "  0.17921598255634308,\n",
              "  0.20149393379688263,\n",
              "  0.16975538432598114,\n",
              "  0.19000589847564697,\n",
              "  0.16153042018413544,\n",
              "  0.15310703217983246,\n",
              "  0.14076079428195953],\n",
              " 'val_binary_accuracy': [0.8949999809265137,\n",
              "  0.8820000290870667,\n",
              "  0.9010000228881836,\n",
              "  0.9139999747276306,\n",
              "  0.9129999876022339,\n",
              "  0.9129999876022339,\n",
              "  0.9120000004768372,\n",
              "  0.9160000085830688,\n",
              "  0.925000011920929,\n",
              "  0.9070000052452087,\n",
              "  0.9139999747276306,\n",
              "  0.9330000281333923,\n",
              "  0.9210000038146973,\n",
              "  0.9290000200271606,\n",
              "  0.9419999718666077],\n",
              " 'val_precision': [0.8790786862373352,\n",
              "  0.8835341334342957,\n",
              "  0.9018036127090454,\n",
              "  0.9207317233085632,\n",
              "  0.9154929518699646,\n",
              "  0.9121756553649902,\n",
              "  0.913654625415802,\n",
              "  0.9160000085830688,\n",
              "  0.9110251665115356,\n",
              "  0.9078156352043152,\n",
              "  0.912350594997406,\n",
              "  0.9356136918067932,\n",
              "  0.9201596975326538,\n",
              "  0.9315895438194275,\n",
              "  0.9419999718666077],\n",
              " 'val_recall': [0.9160000085830688,\n",
              "  0.8799999952316284,\n",
              "  0.8999999761581421,\n",
              "  0.906000018119812,\n",
              "  0.9100000262260437,\n",
              "  0.9139999747276306,\n",
              "  0.9100000262260437,\n",
              "  0.9160000085830688,\n",
              "  0.9419999718666077,\n",
              "  0.906000018119812,\n",
              "  0.9160000085830688,\n",
              "  0.9300000071525574,\n",
              "  0.921999990940094,\n",
              "  0.9259999990463257,\n",
              "  0.9419999718666077],\n",
              " 'val_f1_score': [array([0.95197433, 0.2857143 ], dtype=float32),\n",
              "  array([0.9403974 , 0.42553192], dtype=float32),\n",
              "  array([0.9520697 , 0.46341467], dtype=float32),\n",
              "  array([0.95278066, 0.04255319], dtype=float32),\n",
              "  array([0.9549739 , 0.04444445], dtype=float32),\n",
              "  array([0.95506793, 0.        ], dtype=float32),\n",
              "  array([0.9538784 , 0.04347826], dtype=float32),\n",
              "  array([0.95606697, 0.04545454], dtype=float32),\n",
              "  array([0.96455425, 0.5217392 ], dtype=float32),\n",
              "  array([0.94860816, 0.27272725], dtype=float32),\n",
              "  array([0.9536843 , 0.12000001], dtype=float32),\n",
              "  array([0.96500534, 0.42105263], dtype=float32),\n",
              "  array([0.9600841 , 0.20833334], dtype=float32),\n",
              "  array([0.96202534, 0.30769232], dtype=float32),\n",
              "  array([0.96898395, 0.5538462 ], dtype=float32)]}"
            ]
          },
          "execution_count": 30,
          "metadata": {},
          "output_type": "execute_result"
        }
      ],
      "source": [
        "history.history"
      ]
    },
    {
      "cell_type": "code",
      "execution_count": null,
      "metadata": {
        "colab": {
          "base_uri": "https://localhost:8080/",
          "height": 449
        },
        "id": "3OHh7opr3wm0",
        "outputId": "f4b0f0ec-6a40-475e-cd19-ce79858f1a92"
      },
      "outputs": [
        {
          "data": {
            "image/png": "[encoded data removed]",
            "text/plain": [
              "<Figure size 640x480 with 1 Axes>"
            ]
          },
          "metadata": {},
          "output_type": "display_data"
        }
      ],
      "source": [
        "# plotting\n",
        "\n",
        "train_loss = history.history['loss']\n",
        "val_loss = history.history['val_loss']\n",
        "plt.plot(train_loss,label=\"Train Loss\")\n",
        "plt.plot(val_loss,label='Val Loss')\n",
        "plt.xlabel(\"Epoch\")\n",
        "plt.ylabel(\"Loss\")\n",
        "plt.legend()\n",
        "plt.show()"
      ]
    },
    {
      "cell_type": "code",
      "execution_count": null,
      "metadata": {
        "colab": {
          "base_uri": "https://localhost:8080/"
        },
        "id": "EzJ5b7kw7C48",
        "outputId": "23a3effe-f915-4ce8-af73-01aca49ab497"
      },
      "outputs": [
        {
          "name": "stdout",
          "output_type": "stream",
          "text": [
            "16/16 [==============================] - 0s 934us/step - loss: 0.1700 - binary_accuracy: 0.9340 - precision: 0.9289 - recall: 0.9400 - f1_score: 0.7845\n"
          ]
        }
      ],
      "source": [
        "# evaluate model\n",
        "\n",
        "prediction = model.evaluate(test_ds)"
      ]
    },
    {
      "cell_type": "markdown",
      "metadata": {
        "id": "gm_85Ni3hWlR"
      },
      "source": [
        "**penjelasan grafik dan model evaluation:**\n",
        "\n",
        "seperti yang dapat dilihat dari grafik di atas, training loss dan validation loss perlahan menurun seiring dengan bertambahnya epoch. yang berarti apabila loss-nya menurun, maka accuracy-nya akan meningkat. dari grafik tersebut kita dapat menyimpukan bahwa model telah berhasil dilatih dengan baik. kita juga dapat mengatakan bahwa model kita tidak overfit karena kedua loss menurun bersamaan secara perlahan. di sini saya menggunakan beberapa metrik untuk mengevaluasi model, antara lain accuracy, precision, recall, dan f1-score. keempat metrik tersebut menghasilkan nilai yang sangat bagus dan akan dijelaskan lebih lanjut di bawah ini.\n",
        "\n",
        "**accuracy** -> mengukur seberapa sering model membuat prediksi yang benar secara keseluruhan, dalam architecture ini nilai binary accuracy yang dihasilkan yaitu 0.9340.\n",
        "\n",
        "**precision** -> mengukur seberapa sering model membuat prediksi positif yang benar dari semua prediksi positif yang dilakukan, dalam architecture ini nilai precision yang dihasilkan yaitu 0.9289.\n",
        "\n",
        "**recall** -> mengukur seberapa sering model dapat mendeteksi semua instance positif yang sebenarnya, dalam architecture ini nilai precision yang dihasilkan yaitu 0.9400.\n",
        "\n",
        "**f1-score** -> rata-rata harmonis / keseimbangan antara precision dan recall, dalam architecture ini nilai precision yang dihasilkan yaitu 0.7845."
      ]
    },
    {
      "cell_type": "markdown",
      "metadata": {
        "id": "pj5kTv_wDhbP"
      },
      "source": [
        "# Architectural Modifications"
      ]
    },
    {
      "cell_type": "markdown",
      "metadata": {
        "id": "Yn5UENMteNmM"
      },
      "source": [
        "pada bagian modifikasi arsitektur ini, saya melakukan beberapa hal untuk  mendapatkan dan meningkatkan nilai akurasi yang lebih optimal, antara lain:\n",
        "\n",
        "*   membuat class weights untuk memberikan bobot yang lebih tinggi pada kelas minoritas, sehingga model akan lebih memperhatikan kelas minoritas tersebut selama pelatihan, dengan harapan dapat meningkatkan kemampuan model untuk mengenali dan memprediksi kelas minoritas dengan lebih baik\n",
        "*   menambahkan layer normalization untuk meningkatkan stabilitas dan kinerja model, dengan tujuan untuk mengurangi masalah internal covariate shift dan mempercepat konvergensi selama pelatihan\n",
        "*   menambahkan jumlah epoch untuk meningkatkan konvergensi, mengatasi overfitting, dan memasitkan kestabilan model"
      ]
    },
    {
      "cell_type": "code",
      "execution_count": null,
      "metadata": {
        "id": "LYXPCJjUP2ig"
      },
      "outputs": [],
      "source": [
        "class_weights = {0: 1, 1: 3}"
      ]
    },
    {
      "cell_type": "code",
      "execution_count": null,
      "metadata": {
        "colab": {
          "base_uri": "https://localhost:8080/"
        },
        "id": "lUFqVKBuHIdV",
        "outputId": "f59c620b-8504-45cb-d133-924222fdb30f"
      },
      "outputs": [
        {
          "name": "stdout",
          "output_type": "stream",
          "text": [
            "Model: \"sequential_1\"\n",
            "_________________________________________________________________\n",
            " Layer (type)                Output Shape              Param #   \n",
            "=================================================================\n",
            " dense_4 (Dense)             (None, 11)                132       \n",
            "                                                                 \n",
            " batch_normalization (Batch  (None, 11)                44        \n",
            " Normalization)                                                  \n",
            "                                                                 \n",
            " dense_5 (Dense)             (None, 22)                264       \n",
            "                                                                 \n",
            " batch_normalization_1 (Bat  (None, 22)                88        \n",
            " chNormalization)                                                \n",
            "                                                                 \n",
            " dense_6 (Dense)             (None, 22)                506       \n",
            "                                                                 \n",
            " batch_normalization_2 (Bat  (None, 22)                88        \n",
            " chNormalization)                                                \n",
            "                                                                 \n",
            " dense_7 (Dense)             (None, 11)                253       \n",
            "                                                                 \n",
            " batch_normalization_3 (Bat  (None, 11)                44        \n",
            " chNormalization)                                                \n",
            "                                                                 \n",
            " dense_8 (Dense)             (None, 2)                 24        \n",
            "                                                                 \n",
            "=================================================================\n",
            "Total params: 1443 (5.64 KB)\n",
            "Trainable params: 1311 (5.12 KB)\n",
            "Non-trainable params: 132 (528.00 Byte)\n",
            "_________________________________________________________________\n"
          ]
        }
      ],
      "source": [
        "model = tf.keras.Sequential([\n",
        "    Dense(11, activation=\"relu\", input_shape=(11,)),\n",
        "    BatchNormalization(),\n",
        "    Dense(22, activation=\"relu\"),\n",
        "    BatchNormalization(),\n",
        "    Dense(22, activation=\"relu\"),\n",
        "    BatchNormalization(),\n",
        "    Dense(11, activation=\"relu\", input_shape=(11,)),\n",
        "    BatchNormalization(),\n",
        "    Dense(2, activation='sigmoid')\n",
        "])\n",
        "\n",
        "model.summary()"
      ]
    },
    {
      "cell_type": "code",
      "execution_count": null,
      "metadata": {
        "colab": {
          "base_uri": "https://localhost:8080/"
        },
        "id": "M2_tkVqrHXW8",
        "outputId": "1c8a206c-3fa1-47d7-aa36-8ba711a5cbce"
      },
      "outputs": [
        {
          "name": "stdout",
          "output_type": "stream",
          "text": [
            "16/16 [==============================] - 0s 667us/step\n"
          ]
        },
        {
          "data": {
            "text/plain": [
              "array([[7.73548365e-01, 4.14517015e-01],\n",
              "       [9.44525898e-01, 2.79428035e-01],\n",
              "       [8.94835413e-01, 2.88452029e-01],\n",
              "       [8.01681995e-01, 4.53416735e-01],\n",
              "       [9.81493711e-01, 1.98964670e-01],\n",
              "       [9.03593361e-01, 3.36229563e-01],\n",
              "       [8.83316875e-01, 3.35178077e-01],\n",
              "       [6.67824864e-01, 4.78621632e-01],\n",
              "       [5.85936427e-01, 4.93311733e-01],\n",
              "       [9.36995566e-01, 2.81111240e-01],\n",
              "       [9.99935091e-01, 9.44606552e-04],\n",
              "       [9.41758692e-01, 3.08900535e-01],\n",
              "       [9.26668286e-01, 3.36901695e-01],\n",
              "       [5.83090127e-01, 4.94533569e-01],\n",
              "       [9.65207994e-01, 3.59666586e-01],\n",
              "       [9.97681081e-01, 1.25435844e-01],\n",
              "       [9.92467403e-01, 7.47162402e-02],\n",
              "       [6.59678280e-01, 4.80494410e-01],\n",
              "       [9.97570693e-01, 1.40068516e-01],\n",
              "       [9.07613158e-01, 2.42377043e-01],\n",
              "       [5.91965616e-01, 4.90038633e-01],\n",
              "       [9.60443556e-01, 2.81784624e-01],\n",
              "       [9.43454385e-01, 2.82249987e-01],\n",
              "       [9.59976017e-01, 1.68978944e-01],\n",
              "       [9.95993495e-01, 1.18079178e-01],\n",
              "       [8.59886408e-01, 3.63872558e-01],\n",
              "       [9.72592890e-01, 2.22123384e-01],\n",
              "       [9.97066557e-01, 1.12168908e-01],\n",
              "       [7.94104457e-01, 4.08129364e-01],\n",
              "       [9.36768651e-01, 2.80141503e-01],\n",
              "       [9.98960674e-01, 2.05958605e-01],\n",
              "       [9.21365798e-01, 1.52181864e-01],\n",
              "       [9.67493892e-01, 3.20440352e-01],\n",
              "       [9.32785809e-01, 3.21742505e-01],\n",
              "       [9.63355184e-01, 2.73829728e-01],\n",
              "       [9.89694059e-01, 2.04200566e-01],\n",
              "       [9.66530383e-01, 2.53708184e-01],\n",
              "       [8.80514503e-01, 3.63167703e-01],\n",
              "       [9.67647016e-01, 2.35370100e-01],\n",
              "       [9.63573635e-01, 3.55649889e-01],\n",
              "       [9.98411894e-01, 3.99652332e-01],\n",
              "       [9.79964137e-01, 2.43689910e-01],\n",
              "       [7.24980593e-01, 4.69023824e-01],\n",
              "       [9.44790900e-01, 6.36261329e-02],\n",
              "       [9.49563742e-01, 2.59066254e-01],\n",
              "       [8.79157841e-01, 3.52981508e-01],\n",
              "       [8.68786216e-01, 2.90126204e-01],\n",
              "       [6.16679907e-01, 4.88832921e-01],\n",
              "       [9.99550521e-01, 2.85583973e-01],\n",
              "       [9.37033713e-01, 3.16208899e-01],\n",
              "       [9.77068424e-01, 2.06014320e-01],\n",
              "       [8.59981835e-01, 4.16930377e-01],\n",
              "       [6.02019966e-01, 4.89720911e-01],\n",
              "       [9.50091243e-01, 1.40688315e-01],\n",
              "       [9.73528206e-01, 2.48057172e-01],\n",
              "       [9.57925677e-01, 2.68513590e-01],\n",
              "       [9.07640874e-01, 3.12269002e-01],\n",
              "       [8.47003639e-01, 3.69468898e-01],\n",
              "       [9.99952078e-01, 7.59419939e-03],\n",
              "       [8.15494418e-01, 4.50458467e-01],\n",
              "       [7.46741235e-01, 4.63897496e-01],\n",
              "       [9.40361202e-01, 3.07854235e-01],\n",
              "       [9.12861288e-01, 1.23647302e-01],\n",
              "       [9.92873669e-01, 1.66348994e-01],\n",
              "       [6.53247356e-01, 4.79485005e-01],\n",
              "       [6.22141778e-01, 4.86427784e-01],\n",
              "       [9.77589726e-01, 2.16251746e-01],\n",
              "       [9.62558985e-01, 2.48999953e-01],\n",
              "       [9.47270513e-01, 2.09157825e-01],\n",
              "       [6.03368878e-01, 4.88159359e-01],\n",
              "       [6.17060125e-01, 4.85949904e-01],\n",
              "       [8.89682829e-01, 2.00570688e-01],\n",
              "       [8.18461537e-01, 3.85529220e-01],\n",
              "       [6.31710768e-01, 4.86974686e-01],\n",
              "       [9.97356236e-01, 1.13116041e-01],\n",
              "       [9.88833964e-01, 7.59286992e-03],\n",
              "       [9.20617640e-01, 3.29364270e-01],\n",
              "       [9.55694914e-01, 1.73139229e-01],\n",
              "       [9.99720633e-01, 1.02154911e-01],\n",
              "       [9.03346121e-01, 1.31179839e-01],\n",
              "       [9.54411149e-01, 2.52709776e-01],\n",
              "       [9.82182920e-01, 7.55522028e-02],\n",
              "       [9.36235487e-01, 6.16502203e-02],\n",
              "       [5.92727125e-01, 4.90953594e-01],\n",
              "       [9.22308683e-01, 2.99556375e-01],\n",
              "       [9.72017586e-01, 2.61792481e-01],\n",
              "       [9.97987509e-01, 1.01986736e-01],\n",
              "       [6.36625767e-01, 4.83535498e-01],\n",
              "       [9.76451516e-01, 2.20941782e-01],\n",
              "       [9.30941224e-01, 3.43506008e-01],\n",
              "       [9.05607879e-01, 3.34435046e-01],\n",
              "       [9.11269307e-01, 3.26621383e-01],\n",
              "       [7.80922651e-01, 4.57590550e-01],\n",
              "       [9.96655226e-01, 2.51504011e-03],\n",
              "       [9.82135773e-01, 1.02547765e-01],\n",
              "       [7.80687630e-01, 3.94621551e-01],\n",
              "       [9.83634770e-01, 7.38037303e-02],\n",
              "       [5.73838055e-01, 4.94543523e-01],\n",
              "       [8.57293189e-01, 3.54426801e-01],\n",
              "       [9.74639833e-01, 2.24146977e-01],\n",
              "       [9.94208753e-01, 1.41731858e-01],\n",
              "       [9.96859908e-01, 1.47156328e-01],\n",
              "       [7.60387003e-01, 4.11535740e-01],\n",
              "       [9.11842287e-01, 3.40855956e-01],\n",
              "       [9.72676516e-01, 2.59706110e-01],\n",
              "       [9.98477995e-01, 2.46825442e-03],\n",
              "       [9.98402834e-01, 1.23787582e-01],\n",
              "       [9.92755294e-01, 5.33930911e-03],\n",
              "       [6.08910859e-01, 4.90365297e-01],\n",
              "       [9.26050425e-01, 3.23088735e-01],\n",
              "       [9.99919236e-01, 6.46487111e-03],\n",
              "       [9.73285675e-01, 2.11041108e-01],\n",
              "       [9.84950423e-01, 9.75988358e-02],\n",
              "       [7.46059120e-01, 4.25902992e-01],\n",
              "       [9.81605172e-01, 2.10125357e-01],\n",
              "       [8.40619802e-01, 3.61034513e-01],\n",
              "       [6.48455560e-01, 4.82735634e-01],\n",
              "       [9.99587178e-01, 6.05381792e-04],\n",
              "       [9.78298604e-01, 2.45403573e-01],\n",
              "       [9.99985397e-01, 4.08312818e-03],\n",
              "       [8.87651443e-01, 3.44267726e-01],\n",
              "       [9.68211770e-01, 9.61432531e-02],\n",
              "       [8.00665498e-01, 3.89476925e-01],\n",
              "       [9.45452034e-01, 2.78882653e-01],\n",
              "       [9.98520732e-01, 3.45073074e-01],\n",
              "       [9.90969002e-01, 1.54272607e-02],\n",
              "       [7.87248433e-01, 3.93173158e-01],\n",
              "       [7.24519253e-01, 4.67703015e-01],\n",
              "       [9.62824345e-01, 2.33927131e-01],\n",
              "       [8.60237360e-01, 3.92808765e-01],\n",
              "       [9.35733855e-01, 3.08528513e-01],\n",
              "       [9.99883354e-01, 1.33125286e-03],\n",
              "       [9.90537167e-01, 1.97860330e-01],\n",
              "       [9.99538779e-01, 2.81970738e-03],\n",
              "       [9.46331561e-01, 2.75623202e-01],\n",
              "       [6.00392699e-01, 4.89845097e-01],\n",
              "       [9.95724201e-01, 1.19423315e-01],\n",
              "       [9.83654261e-01, 1.66042626e-01],\n",
              "       [7.77657449e-01, 4.58458513e-01],\n",
              "       [9.76207793e-01, 2.52965212e-01],\n",
              "       [7.64363825e-01, 4.14248049e-01],\n",
              "       [9.92683887e-01, 1.84909031e-01],\n",
              "       [9.87458527e-01, 2.18640298e-01],\n",
              "       [9.92641389e-01, 1.88242435e-01],\n",
              "       [9.98436272e-01, 3.37351523e-02],\n",
              "       [9.94946122e-01, 3.54242809e-02],\n",
              "       [9.13290620e-01, 3.12505603e-01],\n",
              "       [9.90871489e-01, 1.99744567e-01],\n",
              "       [9.39286768e-01, 2.75946468e-01],\n",
              "       [9.54763472e-01, 2.49942526e-01],\n",
              "       [8.10583651e-01, 3.72891873e-01],\n",
              "       [9.77572203e-01, 2.06087887e-01],\n",
              "       [6.51415110e-01, 4.81150806e-01],\n",
              "       [7.36098707e-01, 4.39582914e-01],\n",
              "       [9.85848546e-01, 2.15588346e-01],\n",
              "       [8.47246110e-01, 3.72818619e-01],\n",
              "       [8.30496550e-01, 3.80272090e-01],\n",
              "       [9.94693816e-01, 1.77467354e-02],\n",
              "       [8.50167274e-01, 7.23418146e-02],\n",
              "       [9.77079988e-01, 2.57714331e-01],\n",
              "       [9.93709624e-01, 1.76019192e-01],\n",
              "       [6.08603060e-01, 4.89815563e-01],\n",
              "       [9.99659002e-01, 4.33245860e-03],\n",
              "       [9.89674091e-01, 7.23048765e-03],\n",
              "       [5.76744318e-01, 4.94034678e-01],\n",
              "       [5.80903530e-01, 4.93426591e-01],\n",
              "       [7.39071071e-01, 4.35233265e-01],\n",
              "       [9.60194945e-01, 2.29309782e-01],\n",
              "       [8.84005666e-01, 1.22259118e-01],\n",
              "       [9.99024153e-01, 5.26138674e-03],\n",
              "       [6.42241240e-01, 4.85208303e-01],\n",
              "       [6.48002923e-01, 4.81624663e-01],\n",
              "       [9.99941409e-01, 3.25355824e-04],\n",
              "       [9.05992329e-01, 2.61905700e-01],\n",
              "       [9.93140817e-01, 1.84481308e-01],\n",
              "       [8.60307395e-01, 3.51368040e-01],\n",
              "       [9.71446514e-01, 2.26322532e-01],\n",
              "       [9.95326579e-01, 6.45150337e-03],\n",
              "       [8.23628545e-01, 3.97518367e-01],\n",
              "       [9.48403716e-01, 2.86922991e-01],\n",
              "       [9.89879668e-01, 2.02014312e-01],\n",
              "       [9.83172357e-01, 3.10759902e-01],\n",
              "       [9.52645063e-01, 2.65750080e-01],\n",
              "       [9.99560714e-01, 3.61246901e-04],\n",
              "       [9.95962620e-01, 1.38850203e-02],\n",
              "       [6.36744082e-01, 4.84661728e-01],\n",
              "       [9.72546518e-01, 2.60201037e-01],\n",
              "       [7.27226138e-01, 4.50295836e-01],\n",
              "       [9.49360192e-01, 2.81205118e-01],\n",
              "       [7.32347786e-01, 4.67331469e-01],\n",
              "       [7.79671669e-01, 4.57832843e-01],\n",
              "       [9.93602753e-01, 1.03230802e-02],\n",
              "       [9.94566202e-01, 6.93931151e-03],\n",
              "       [9.67411578e-01, 2.42352515e-01],\n",
              "       [9.96075153e-01, 3.28763761e-02],\n",
              "       [9.75162864e-01, 2.06509084e-01],\n",
              "       [9.90873277e-01, 1.97284073e-01],\n",
              "       [9.99515593e-01, 2.14502700e-02],\n",
              "       [8.43755364e-01, 3.70731205e-01],\n",
              "       [9.96192455e-01, 1.53660476e-01],\n",
              "       [9.70926702e-01, 2.26055592e-01],\n",
              "       [9.78337765e-01, 2.42461234e-01],\n",
              "       [9.94135559e-01, 1.40274450e-01],\n",
              "       [9.87582326e-01, 2.18565956e-01],\n",
              "       [7.92956114e-01, 4.55207825e-01],\n",
              "       [9.97116625e-01, 1.22794673e-01],\n",
              "       [7.98202217e-01, 3.88132632e-01],\n",
              "       [6.94890141e-01, 4.63392556e-01],\n",
              "       [8.93836319e-01, 3.23267996e-01],\n",
              "       [9.90103185e-01, 1.64857998e-01],\n",
              "       [9.25113559e-01, 2.87753016e-01],\n",
              "       [9.96811152e-01, 2.49240339e-01],\n",
              "       [8.87692153e-01, 2.53095180e-01],\n",
              "       [6.33462489e-01, 4.85140830e-01],\n",
              "       [9.89611208e-01, 2.03190953e-01],\n",
              "       [9.76002932e-01, 2.55250484e-01],\n",
              "       [9.03013110e-01, 3.11809301e-01],\n",
              "       [9.97274935e-01, 2.42860228e-01],\n",
              "       [9.99735773e-01, 1.49487421e-01],\n",
              "       [7.12227345e-01, 4.70511734e-01],\n",
              "       [9.35399473e-01, 2.93124080e-01],\n",
              "       [7.53146052e-01, 4.63864088e-01],\n",
              "       [8.36700559e-01, 3.80432606e-01],\n",
              "       [9.04926598e-01, 1.73980340e-01],\n",
              "       [9.02190685e-01, 2.27881536e-01],\n",
              "       [9.78257656e-01, 2.43365452e-01],\n",
              "       [9.90711808e-01, 1.67705700e-01],\n",
              "       [6.05695844e-01, 4.90297556e-01],\n",
              "       [8.29143763e-01, 4.51179475e-01],\n",
              "       [9.86439586e-01, 2.14990929e-01],\n",
              "       [6.86456621e-01, 4.67621177e-01],\n",
              "       [9.98238862e-01, 1.77954480e-01],\n",
              "       [9.13465858e-01, 3.15709680e-01],\n",
              "       [9.91842806e-01, 1.03439847e-02],\n",
              "       [9.95382071e-01, 1.35185421e-01],\n",
              "       [5.77249646e-01, 4.94676441e-01],\n",
              "       [9.81005728e-01, 2.94110984e-01],\n",
              "       [9.97846246e-01, 1.35886654e-01],\n",
              "       [9.90779698e-01, 1.84542865e-01],\n",
              "       [9.89865839e-01, 2.03057870e-01],\n",
              "       [9.56023395e-01, 2.52763599e-01],\n",
              "       [9.67471182e-01, 7.66827241e-02],\n",
              "       [9.93566334e-01, 4.48808409e-02],\n",
              "       [9.99986947e-01, 2.78915268e-05],\n",
              "       [6.26256168e-01, 4.83589321e-01],\n",
              "       [9.89876270e-01, 2.03029007e-01],\n",
              "       [6.19721651e-01, 4.87563401e-01],\n",
              "       [9.70231652e-01, 2.64609277e-01],\n",
              "       [9.87998664e-01, 2.90408462e-01],\n",
              "       [8.90897989e-01, 3.92383337e-01],\n",
              "       [8.91271651e-01, 3.56200665e-01],\n",
              "       [9.98470485e-01, 1.20225541e-01],\n",
              "       [9.99968886e-01, 5.28196245e-03],\n",
              "       [9.07837152e-01, 3.33465964e-01],\n",
              "       [9.49852943e-01, 2.89964437e-01],\n",
              "       [9.03110743e-01, 3.29530180e-01],\n",
              "       [9.25917625e-01, 3.30425143e-01],\n",
              "       [9.77307379e-01, 2.12576360e-01],\n",
              "       [9.87617910e-01, 8.51762220e-02],\n",
              "       [9.82847571e-01, 2.92187512e-01],\n",
              "       [9.45161760e-01, 3.07234108e-01],\n",
              "       [9.67470407e-01, 2.35401869e-01],\n",
              "       [7.87506878e-01, 4.56298739e-01],\n",
              "       [9.97849762e-01, 1.35248929e-01],\n",
              "       [9.42600548e-01, 2.62808233e-01],\n",
              "       [9.85602796e-01, 2.20712632e-01],\n",
              "       [9.99854445e-01, 1.23101771e-01],\n",
              "       [9.67460692e-01, 2.72397488e-01],\n",
              "       [9.97034073e-01, 5.03126383e-02],\n",
              "       [8.91413748e-01, 3.30105275e-01],\n",
              "       [6.33472085e-01, 4.81753349e-01],\n",
              "       [9.20971990e-01, 2.93484062e-01],\n",
              "       [9.63851154e-01, 3.25386167e-01],\n",
              "       [9.77292180e-01, 2.16284722e-01],\n",
              "       [9.82498646e-01, 8.89166445e-02],\n",
              "       [9.99372721e-01, 9.57272667e-03],\n",
              "       [9.94724333e-01, 1.72028974e-01],\n",
              "       [9.60414648e-01, 2.35843793e-01],\n",
              "       [9.61011767e-01, 2.47159287e-01],\n",
              "       [7.33422518e-01, 4.66671050e-01],\n",
              "       [7.46935487e-01, 4.37157154e-01],\n",
              "       [9.99445677e-01, 1.94824841e-02],\n",
              "       [9.46072698e-01, 3.00806820e-01],\n",
              "       [7.87238598e-01, 4.09487963e-01],\n",
              "       [9.90066648e-01, 2.02655345e-01],\n",
              "       [9.94613707e-01, 1.11392904e-02],\n",
              "       [9.45167959e-01, 3.01269144e-01],\n",
              "       [9.54498231e-01, 2.96193987e-01],\n",
              "       [9.24020529e-01, 2.91194916e-01],\n",
              "       [9.93499279e-01, 2.70157307e-02],\n",
              "       [8.03977370e-01, 4.53081071e-01],\n",
              "       [9.52486932e-01, 1.82099000e-01],\n",
              "       [9.99605298e-01, 4.39857552e-03],\n",
              "       [5.99855244e-01, 4.89978462e-01],\n",
              "       [9.98382568e-01, 1.94794610e-01],\n",
              "       [9.94273067e-01, 3.56099367e-01],\n",
              "       [9.66365993e-01, 2.72544235e-01],\n",
              "       [8.25170994e-01, 3.87410283e-01],\n",
              "       [7.30909705e-01, 4.40452278e-01],\n",
              "       [9.40220296e-01, 6.05191626e-02],\n",
              "       [8.99851918e-01, 1.80780768e-01],\n",
              "       [9.74666059e-01, 2.09544107e-01],\n",
              "       [9.99165833e-01, 1.69557437e-01],\n",
              "       [8.97287905e-01, 3.29630226e-01],\n",
              "       [9.63981390e-01, 9.97576639e-02],\n",
              "       [9.98798907e-01, 1.11284539e-01],\n",
              "       [5.68425477e-01, 4.96606559e-01],\n",
              "       [9.88373220e-01, 1.68490976e-01],\n",
              "       [9.69321430e-01, 2.31649399e-01],\n",
              "       [9.32419896e-01, 1.40799582e-01],\n",
              "       [6.78185582e-01, 4.71664906e-01],\n",
              "       [9.91290629e-01, 1.62783325e-01],\n",
              "       [6.20232463e-01, 4.88473773e-01],\n",
              "       [9.82912660e-01, 7.37300664e-02],\n",
              "       [6.78442895e-01, 4.52428341e-01],\n",
              "       [6.85059011e-01, 4.76011127e-01],\n",
              "       [6.63884163e-01, 4.77250606e-01],\n",
              "       [9.56715465e-01, 2.32578486e-01],\n",
              "       [9.77874815e-01, 2.14609325e-01],\n",
              "       [7.59687960e-01, 4.12895054e-01],\n",
              "       [6.74347103e-01, 4.75673437e-01],\n",
              "       [9.99397755e-01, 2.93618385e-02],\n",
              "       [9.71469283e-01, 2.19473541e-01],\n",
              "       [8.57531667e-01, 4.14515793e-01],\n",
              "       [9.97702122e-01, 2.25468814e-01],\n",
              "       [9.98048961e-01, 4.10456769e-02],\n",
              "       [6.26633704e-01, 4.86734509e-01],\n",
              "       [5.80410123e-01, 4.93712634e-01],\n",
              "       [5.76961219e-01, 4.95048940e-01],\n",
              "       [9.92312670e-01, 1.40791446e-01],\n",
              "       [9.71426010e-01, 2.41810307e-02],\n",
              "       [9.75813925e-01, 1.44363148e-02],\n",
              "       [9.89599288e-01, 2.92993754e-01],\n",
              "       [9.80390012e-01, 2.08081044e-02],\n",
              "       [8.91157389e-01, 3.27893078e-01],\n",
              "       [9.83299434e-01, 1.58950716e-01],\n",
              "       [6.44879997e-01, 4.72685516e-01],\n",
              "       [9.83691573e-01, 1.44144986e-02],\n",
              "       [9.96316850e-01, 6.19438477e-03],\n",
              "       [9.98495162e-01, 1.15512244e-01],\n",
              "       [7.19132900e-01, 4.45946872e-01],\n",
              "       [9.61044610e-01, 2.29390994e-01],\n",
              "       [9.89457250e-01, 1.74491152e-01],\n",
              "       [9.61668134e-01, 2.81079590e-01],\n",
              "       [7.79132903e-01, 4.57936913e-01],\n",
              "       [9.99521971e-01, 9.70658846e-04],\n",
              "       [9.45501447e-01, 1.84156463e-01],\n",
              "       [9.88318920e-01, 2.14376405e-01],\n",
              "       [9.99182045e-01, 2.89025158e-03],\n",
              "       [9.55457628e-01, 2.54320204e-01],\n",
              "       [9.57813263e-01, 2.73849308e-01],\n",
              "       [9.72692370e-01, 2.15120658e-01],\n",
              "       [5.96552670e-01, 4.92365956e-01],\n",
              "       [7.70366013e-01, 4.59605843e-01],\n",
              "       [7.38935828e-01, 4.65510964e-01],\n",
              "       [9.99123156e-01, 3.25057469e-02],\n",
              "       [9.85659659e-01, 2.15262204e-01],\n",
              "       [9.89884436e-01, 2.04093724e-01],\n",
              "       [9.97660398e-01, 1.38916120e-01],\n",
              "       [9.82236147e-01, 2.34929815e-01],\n",
              "       [9.83999074e-01, 2.28605419e-01],\n",
              "       [9.82033908e-01, 1.88134909e-01],\n",
              "       [9.40226793e-01, 2.95851111e-01],\n",
              "       [8.91328454e-01, 3.26789826e-01],\n",
              "       [8.37849736e-01, 4.30269480e-01],\n",
              "       [9.93973196e-01, 2.41869763e-01],\n",
              "       [9.99860466e-01, 9.42530110e-03],\n",
              "       [8.52855682e-01, 4.10522103e-01],\n",
              "       [9.91607904e-01, 1.95589021e-01],\n",
              "       [9.64189172e-01, 2.33981490e-01],\n",
              "       [9.65884805e-01, 1.03161484e-01],\n",
              "       [9.88852918e-01, 2.07086608e-01],\n",
              "       [9.15127397e-01, 3.32358658e-01],\n",
              "       [9.82606590e-01, 7.18526170e-02],\n",
              "       [8.89132380e-01, 1.09022774e-01],\n",
              "       [9.85188425e-01, 1.92540750e-01],\n",
              "       [9.99896348e-01, 1.53018546e-03],\n",
              "       [6.19780660e-01, 4.88629609e-01],\n",
              "       [9.98994946e-01, 1.07793927e-01],\n",
              "       [9.74649608e-01, 2.51170248e-01],\n",
              "       [9.93107140e-01, 1.86916232e-01],\n",
              "       [7.19700754e-01, 4.34590846e-01],\n",
              "       [9.91502821e-01, 1.88542590e-01],\n",
              "       [8.64228785e-01, 3.56439590e-01],\n",
              "       [9.52558994e-01, 2.57988781e-01],\n",
              "       [9.40029442e-01, 8.75827223e-02],\n",
              "       [7.96425879e-01, 4.03782099e-01],\n",
              "       [7.30199277e-01, 4.31725383e-01],\n",
              "       [9.73099947e-01, 9.58225578e-02],\n",
              "       [5.76419473e-01, 4.94993389e-01],\n",
              "       [9.88503337e-01, 2.21174285e-02],\n",
              "       [5.98376513e-01, 4.90818381e-01],\n",
              "       [9.30578828e-01, 3.24622303e-01],\n",
              "       [9.41134572e-01, 2.00234503e-01],\n",
              "       [8.90967131e-01, 2.32509151e-01],\n",
              "       [9.47025895e-01, 3.01695406e-01],\n",
              "       [8.39547694e-01, 3.72171164e-01],\n",
              "       [8.17401886e-01, 3.81585866e-01],\n",
              "       [9.95965600e-01, 2.31058627e-01],\n",
              "       [9.95655000e-01, 1.59234807e-01],\n",
              "       [9.86976147e-01, 1.77964985e-01],\n",
              "       [9.12031353e-01, 3.07114244e-01],\n",
              "       [7.31769919e-01, 4.66483206e-01],\n",
              "       [9.26641881e-01, 2.89737016e-01],\n",
              "       [7.15973496e-01, 4.69116002e-01],\n",
              "       [9.69105721e-01, 3.15622121e-01],\n",
              "       [9.84038174e-01, 2.27950200e-01],\n",
              "       [6.24337792e-01, 4.86685842e-01],\n",
              "       [9.99342382e-01, 7.30769150e-03],\n",
              "       [9.22676504e-01, 2.60472476e-01],\n",
              "       [9.80287373e-01, 1.86851263e-01],\n",
              "       [6.45309329e-01, 4.82345432e-01],\n",
              "       [5.76048195e-01, 4.95144397e-01],\n",
              "       [9.32821870e-01, 2.84522235e-01],\n",
              "       [9.91478384e-01, 1.94540128e-01],\n",
              "       [8.95844996e-01, 3.20376843e-01],\n",
              "       [9.95436609e-01, 1.22731663e-02],\n",
              "       [9.98546898e-01, 1.19418480e-01],\n",
              "       [9.77110565e-01, 2.54562974e-01],\n",
              "       [9.74290729e-01, 2.48841867e-01],\n",
              "       [7.67947972e-01, 4.09613848e-01],\n",
              "       [9.66009080e-01, 2.30340824e-01],\n",
              "       [7.51710892e-01, 4.26310718e-01],\n",
              "       [8.90956700e-01, 3.25064749e-01],\n",
              "       [9.87523675e-01, 4.01786417e-02],\n",
              "       [5.70593297e-01, 4.96226162e-01],\n",
              "       [7.68658757e-01, 4.16613728e-01],\n",
              "       [9.90826905e-01, 2.00710446e-01],\n",
              "       [8.22213352e-01, 3.93087715e-01],\n",
              "       [6.58531487e-01, 4.78048235e-01],\n",
              "       [6.78379714e-01, 4.76581752e-01],\n",
              "       [9.91819084e-01, 1.93969294e-01],\n",
              "       [5.95884681e-01, 4.90391046e-01],\n",
              "       [9.29158628e-01, 3.26879561e-01],\n",
              "       [9.99970138e-01, 3.28367896e-04],\n",
              "       [9.26290452e-01, 3.38172913e-01],\n",
              "       [8.66734207e-01, 3.37923765e-01],\n",
              "       [9.71910775e-01, 3.20321590e-01],\n",
              "       [9.98691082e-01, 9.69763994e-02],\n",
              "       [9.99798596e-01, 2.33571064e-02],\n",
              "       [9.25275564e-01, 3.13063771e-01],\n",
              "       [5.98160744e-01, 4.91512299e-01],\n",
              "       [8.23831677e-01, 4.48590904e-01],\n",
              "       [9.98197079e-01, 1.09883985e-02],\n",
              "       [8.05335879e-01, 3.83799314e-01],\n",
              "       [9.07692015e-01, 1.31912678e-01],\n",
              "       [9.80920672e-01, 1.98073477e-01],\n",
              "       [9.99445915e-01, 3.49704712e-03],\n",
              "       [5.82786202e-01, 4.93565977e-01],\n",
              "       [6.13400221e-01, 4.88891989e-01],\n",
              "       [9.96811152e-01, 1.36334505e-02],\n",
              "       [9.19367373e-01, 1.68519855e-01],\n",
              "       [8.48066747e-01, 3.67471755e-01],\n",
              "       [9.98875558e-01, 1.33538423e-02],\n",
              "       [7.82604277e-01, 3.99407774e-01],\n",
              "       [9.91521239e-01, 1.92142248e-01],\n",
              "       [9.89624858e-01, 1.02484375e-02],\n",
              "       [5.78021884e-01, 4.95514363e-01],\n",
              "       [9.89819467e-01, 5.31836692e-03],\n",
              "       [7.36106813e-01, 4.27133918e-01],\n",
              "       [9.96640623e-01, 1.16076745e-01],\n",
              "       [8.31481040e-01, 4.46816713e-01],\n",
              "       [8.61170590e-01, 3.54938567e-01],\n",
              "       [7.08999038e-01, 4.50047284e-01],\n",
              "       [7.49882042e-01, 4.63342696e-01],\n",
              "       [6.41537011e-01, 4.83995885e-01],\n",
              "       [8.52015734e-01, 2.65576571e-01],\n",
              "       [9.90240932e-01, 5.43237999e-02],\n",
              "       [9.88305867e-01, 2.07728356e-01],\n",
              "       [8.32086265e-01, 4.46673691e-01],\n",
              "       [9.96130884e-01, 1.20437704e-01],\n",
              "       [8.72997522e-01, 3.41573030e-01],\n",
              "       [9.97771919e-01, 1.35974959e-01],\n",
              "       [9.52702641e-01, 2.45574862e-01],\n",
              "       [9.23114896e-01, 3.22199553e-01],\n",
              "       [8.94675255e-01, 3.30680698e-01],\n",
              "       [9.46909904e-01, 8.00779834e-02],\n",
              "       [9.90799606e-01, 2.75539786e-01],\n",
              "       [8.99783611e-01, 2.71703929e-01],\n",
              "       [9.67338383e-01, 2.46502578e-01],\n",
              "       [9.33252454e-01, 1.47805706e-01],\n",
              "       [9.04604912e-01, 3.16266298e-01],\n",
              "       [9.70102787e-01, 2.18832016e-01],\n",
              "       [9.80738223e-01, 2.41933063e-01],\n",
              "       [8.22601020e-01, 3.85315895e-01],\n",
              "       [9.92738605e-01, 1.45375699e-01],\n",
              "       [9.96184766e-01, 3.19039589e-03],\n",
              "       [8.70530128e-01, 3.27767044e-01],\n",
              "       [9.62994576e-01, 2.47977585e-01],\n",
              "       [9.93433356e-01, 1.45083040e-01],\n",
              "       [9.42917764e-01, 3.00593644e-01],\n",
              "       [9.67618763e-01, 2.59505689e-01],\n",
              "       [9.99991417e-01, 6.50566595e-04],\n",
              "       [9.99926388e-01, 1.95343723e-03],\n",
              "       [9.69653726e-01, 2.43715391e-01],\n",
              "       [9.86998558e-01, 1.13207415e-01],\n",
              "       [9.88863587e-01, 2.75970101e-01],\n",
              "       [9.36420739e-01, 2.82364696e-01],\n",
              "       [8.84907722e-01, 3.33044529e-01],\n",
              "       [6.57771111e-01, 4.78742480e-01]], dtype=float32)"
            ]
          },
          "execution_count": 35,
          "metadata": {},
          "output_type": "execute_result"
        }
      ],
      "source": [
        "model.predict(val_ds)"
      ]
    },
    {
      "cell_type": "code",
      "execution_count": null,
      "metadata": {
        "id": "oNgxRK4HHXW9"
      },
      "outputs": [],
      "source": [
        "x = tf.constant([[i for i in range(0,10)]])"
      ]
    },
    {
      "cell_type": "code",
      "execution_count": null,
      "metadata": {
        "id": "OgGqQ6k6HXW9",
        "outputId": "3c8ab27e-5f12-4086-c0b5-087a61bd181c"
      },
      "outputs": [
        {
          "data": {
            "text/plain": [
              "<tf.Tensor: shape=(1, 10), dtype=int32, numpy=array([[0, 1, 2, 3, 4, 5, 6, 7, 8, 9]])>"
            ]
          },
          "execution_count": 37,
          "metadata": {},
          "output_type": "execute_result"
        }
      ],
      "source": [
        "x"
      ]
    },
    {
      "cell_type": "code",
      "execution_count": null,
      "metadata": {
        "id": "3Kco5OdyHXW-"
      },
      "outputs": [],
      "source": [
        "model.compile(optimizer=tf.keras.optimizers.Adam(learning_rate=1e-3)\n",
        "              ,loss='binary_crossentropy'\n",
        "              , metrics=[tf.keras.metrics.BinaryAccuracy(),tf.keras.metrics.Precision(),tf.keras.metrics.Recall(), tf.keras.metrics.F1Score()])"
      ]
    },
    {
      "cell_type": "code",
      "execution_count": null,
      "metadata": {
        "colab": {
          "base_uri": "https://localhost:8080/"
        },
        "id": "Iec6GUvIHXW-",
        "outputId": "ed7ca12c-1400-461a-a15b-f63ce27bd588"
      },
      "outputs": [
        {
          "name": "stdout",
          "output_type": "stream",
          "text": [
            "Epoch 1/20\n",
            "125/125 [==============================] - 2s 3ms/step - loss: 0.6202 - binary_accuracy: 0.7166 - precision_1: 0.7209 - recall_1: 0.7070 - f1_score: 0.6051 - val_loss: 0.5486 - val_binary_accuracy: 0.8490 - val_precision_1: 0.8156 - val_recall_1: 0.9020 - val_f1_score: 0.7070\n",
            "Epoch 2/20\n",
            "125/125 [==============================] - 0s 1ms/step - loss: 0.4148 - binary_accuracy: 0.8611 - precision_1: 0.8559 - recall_1: 0.8685 - f1_score: 0.7064 - val_loss: 0.3507 - val_binary_accuracy: 0.8980 - val_precision_1: 0.8857 - val_recall_1: 0.9140 - val_f1_score: 0.5671\n",
            "Epoch 3/20\n",
            "125/125 [==============================] - 0s 1ms/step - loss: 0.2984 - binary_accuracy: 0.8931 - precision_1: 0.8838 - recall_1: 0.9053 - f1_score: 0.6779 - val_loss: 0.2396 - val_binary_accuracy: 0.9140 - val_precision_1: 0.9107 - val_recall_1: 0.9180 - val_f1_score: 0.5971\n",
            "Epoch 4/20\n",
            "125/125 [==============================] - 0s 1ms/step - loss: 0.2409 - binary_accuracy: 0.8999 - precision_1: 0.8912 - recall_1: 0.9110 - f1_score: 0.6572 - val_loss: 0.2013 - val_binary_accuracy: 0.9160 - val_precision_1: 0.9094 - val_recall_1: 0.9240 - val_f1_score: 0.4997\n",
            "Epoch 5/20\n",
            "125/125 [==============================] - 0s 1ms/step - loss: 0.2165 - binary_accuracy: 0.9044 - precision_1: 0.8944 - recall_1: 0.9170 - f1_score: 0.6184 - val_loss: 0.1852 - val_binary_accuracy: 0.9140 - val_precision_1: 0.9140 - val_recall_1: 0.9140 - val_f1_score: 0.5815\n",
            "Epoch 6/20\n",
            "125/125 [==============================] - 0s 1ms/step - loss: 0.2060 - binary_accuracy: 0.9043 - precision_1: 0.8991 - recall_1: 0.9107 - f1_score: 0.6102 - val_loss: 0.1735 - val_binary_accuracy: 0.9170 - val_precision_1: 0.9195 - val_recall_1: 0.9140 - val_f1_score: 0.5018\n",
            "Epoch 7/20\n",
            "125/125 [==============================] - 0s 1ms/step - loss: 0.1977 - binary_accuracy: 0.9074 - precision_1: 0.9020 - recall_1: 0.9140 - f1_score: 0.6453 - val_loss: 0.1708 - val_binary_accuracy: 0.9160 - val_precision_1: 0.9143 - val_recall_1: 0.9180 - val_f1_score: 0.4770\n",
            "Epoch 8/20\n",
            "125/125 [==============================] - 0s 1ms/step - loss: 0.1928 - binary_accuracy: 0.9090 - precision_1: 0.9014 - recall_1: 0.9185 - f1_score: 0.6377 - val_loss: 0.1711 - val_binary_accuracy: 0.9140 - val_precision_1: 0.9173 - val_recall_1: 0.9100 - val_f1_score: 0.4775\n",
            "Epoch 9/20\n",
            "125/125 [==============================] - 0s 1ms/step - loss: 0.1857 - binary_accuracy: 0.9133 - precision_1: 0.9092 - recall_1: 0.9183 - f1_score: 0.6857 - val_loss: 0.1840 - val_binary_accuracy: 0.9150 - val_precision_1: 0.9158 - val_recall_1: 0.9140 - val_f1_score: 0.4781\n",
            "Epoch 10/20\n",
            "125/125 [==============================] - 0s 1ms/step - loss: 0.1732 - binary_accuracy: 0.9265 - precision_1: 0.9210 - recall_1: 0.9330 - f1_score: 0.7422 - val_loss: 0.2341 - val_binary_accuracy: 0.9160 - val_precision_1: 0.9160 - val_recall_1: 0.9160 - val_f1_score: 0.4781\n",
            "Epoch 11/20\n",
            "125/125 [==============================] - 0s 1ms/step - loss: 0.1538 - binary_accuracy: 0.9390 - precision_1: 0.9347 - recall_1: 0.9440 - f1_score: 0.7946 - val_loss: 0.2429 - val_binary_accuracy: 0.9160 - val_precision_1: 0.9160 - val_recall_1: 0.9160 - val_f1_score: 0.4781\n",
            "Epoch 12/20\n",
            "125/125 [==============================] - 0s 1ms/step - loss: 0.1429 - binary_accuracy: 0.9436 - precision_1: 0.9398 - recall_1: 0.9480 - f1_score: 0.8121 - val_loss: 0.1824 - val_binary_accuracy: 0.9300 - val_precision_1: 0.9283 - val_recall_1: 0.9320 - val_f1_score: 0.6211\n",
            "Epoch 13/20\n",
            "125/125 [==============================] - 0s 1ms/step - loss: 0.1345 - binary_accuracy: 0.9486 - precision_1: 0.9445 - recall_1: 0.9532 - f1_score: 0.8372 - val_loss: 0.1452 - val_binary_accuracy: 0.9440 - val_precision_1: 0.9422 - val_recall_1: 0.9460 - val_f1_score: 0.7488\n",
            "Epoch 14/20\n",
            "125/125 [==============================] - 0s 1ms/step - loss: 0.1251 - binary_accuracy: 0.9521 - precision_1: 0.9489 - recall_1: 0.9557 - f1_score: 0.8453 - val_loss: 0.1147 - val_binary_accuracy: 0.9600 - val_precision_1: 0.9582 - val_recall_1: 0.9620 - val_f1_score: 0.8331\n",
            "Epoch 15/20\n",
            "125/125 [==============================] - 0s 1ms/step - loss: 0.1192 - binary_accuracy: 0.9556 - precision_1: 0.9541 - recall_1: 0.9572 - f1_score: 0.8608 - val_loss: 0.1059 - val_binary_accuracy: 0.9590 - val_precision_1: 0.9563 - val_recall_1: 0.9620 - val_f1_score: 0.8221\n",
            "Epoch 16/20\n",
            "125/125 [==============================] - 0s 1ms/step - loss: 0.1137 - binary_accuracy: 0.9581 - precision_1: 0.9569 - recall_1: 0.9595 - f1_score: 0.8699 - val_loss: 0.0913 - val_binary_accuracy: 0.9690 - val_precision_1: 0.9699 - val_recall_1: 0.9680 - val_f1_score: 0.8738\n",
            "Epoch 17/20\n",
            "125/125 [==============================] - 0s 1ms/step - loss: 0.1100 - binary_accuracy: 0.9589 - precision_1: 0.9572 - recall_1: 0.9607 - f1_score: 0.8728 - val_loss: 0.0871 - val_binary_accuracy: 0.9730 - val_precision_1: 0.9721 - val_recall_1: 0.9740 - val_f1_score: 0.9039\n",
            "Epoch 18/20\n",
            "125/125 [==============================] - 0s 1ms/step - loss: 0.1047 - binary_accuracy: 0.9619 - precision_1: 0.9597 - recall_1: 0.9643 - f1_score: 0.8785 - val_loss: 0.0903 - val_binary_accuracy: 0.9730 - val_precision_1: 0.9739 - val_recall_1: 0.9720 - val_f1_score: 0.8952\n",
            "Epoch 19/20\n",
            "125/125 [==============================] - 0s 1ms/step - loss: 0.1029 - binary_accuracy: 0.9628 - precision_1: 0.9618 - recall_1: 0.9638 - f1_score: 0.8817 - val_loss: 0.0874 - val_binary_accuracy: 0.9720 - val_precision_1: 0.9720 - val_recall_1: 0.9720 - val_f1_score: 0.8863\n",
            "Epoch 20/20\n",
            "125/125 [==============================] - 0s 1ms/step - loss: 0.0992 - binary_accuracy: 0.9644 - precision_1: 0.9624 - recall_1: 0.9665 - f1_score: 0.8855 - val_loss: 0.0818 - val_binary_accuracy: 0.9740 - val_precision_1: 0.9740 - val_recall_1: 0.9740 - val_f1_score: 0.8863\n"
          ]
        }
      ],
      "source": [
        "history = model.fit(train_ds,validation_data=val_ds,epochs = 20)"
      ]
    },
    {
      "cell_type": "code",
      "execution_count": null,
      "metadata": {
        "id": "5NqdfEVhHXW-",
        "outputId": "e969874f-049f-4eab-ce2e-2bf9539e839d"
      },
      "outputs": [
        {
          "data": {
            "text/plain": [
              "{'loss': [0.6202151775360107,\n",
              "  0.4147808253765106,\n",
              "  0.29835546016693115,\n",
              "  0.24086779356002808,\n",
              "  0.21645121276378632,\n",
              "  0.20598138868808746,\n",
              "  0.19767431914806366,\n",
              "  0.1927797943353653,\n",
              "  0.18574973940849304,\n",
              "  0.17322596907615662,\n",
              "  0.1537960171699524,\n",
              "  0.14293520152568817,\n",
              "  0.1344693899154663,\n",
              "  0.12509135901927948,\n",
              "  0.1191742867231369,\n",
              "  0.11366526037454605,\n",
              "  0.10997284203767776,\n",
              "  0.10465778410434723,\n",
              "  0.10289062559604645,\n",
              "  0.0991760641336441],\n",
              " 'binary_accuracy': [0.7166249752044678,\n",
              "  0.8611249923706055,\n",
              "  0.8931249976158142,\n",
              "  0.8998749852180481,\n",
              "  0.9043750166893005,\n",
              "  0.9042500257492065,\n",
              "  0.9073749780654907,\n",
              "  0.9089999794960022,\n",
              "  0.9132500290870667,\n",
              "  0.9265000224113464,\n",
              "  0.9390000104904175,\n",
              "  0.9436249732971191,\n",
              "  0.9486250281333923,\n",
              "  0.9521250128746033,\n",
              "  0.9556249976158142,\n",
              "  0.9581249952316284,\n",
              "  0.9588750004768372,\n",
              "  0.9618750214576721,\n",
              "  0.9627500176429749,\n",
              "  0.9643750190734863],\n",
              " 'precision_1': [0.7208768725395203,\n",
              "  0.8558758497238159,\n",
              "  0.8838174343109131,\n",
              "  0.8911714553833008,\n",
              "  0.8944159746170044,\n",
              "  0.8990622162818909,\n",
              "  0.902047872543335,\n",
              "  0.9013739228248596,\n",
              "  0.9091584086418152,\n",
              "  0.9210266470909119,\n",
              "  0.9346534609794617,\n",
              "  0.9397769570350647,\n",
              "  0.9445132613182068,\n",
              "  0.9488706588745117,\n",
              "  0.9541490077972412,\n",
              "  0.956868588924408,\n",
              "  0.9571606516838074,\n",
              "  0.9596914649009705,\n",
              "  0.9618263244628906,\n",
              "  0.9624097347259521],\n",
              " 'recall_1': [0.7070000171661377,\n",
              "  0.8684999942779541,\n",
              "  0.9052500128746033,\n",
              "  0.9110000133514404,\n",
              "  0.9169999957084656,\n",
              "  0.9107499718666077,\n",
              "  0.9139999747276306,\n",
              "  0.9185000061988831,\n",
              "  0.9182500243186951,\n",
              "  0.9330000281333923,\n",
              "  0.9440000057220459,\n",
              "  0.9480000138282776,\n",
              "  0.953249990940094,\n",
              "  0.9557499885559082,\n",
              "  0.9572499990463257,\n",
              "  0.9595000147819519,\n",
              "  0.9607499837875366,\n",
              "  0.9642500281333923,\n",
              "  0.9637500047683716,\n",
              "  0.9664999842643738],\n",
              " 'f1_score': [array([0.8363293, 0.3739445], dtype=float32),\n",
              "  array([0.9216789 , 0.49109653], dtype=float32),\n",
              "  array([0.94065815, 0.41519678], dtype=float32),\n",
              "  array([0.94806606, 0.36633664], dtype=float32),\n",
              "  array([0.9483845, 0.2883549], dtype=float32),\n",
              "  array([0.9496192 , 0.27079302], dtype=float32),\n",
              "  array([0.95229167, 0.33828995], dtype=float32),\n",
              "  array([0.95136005, 0.32402235], dtype=float32),\n",
              "  array([0.9547414, 0.4166667], dtype=float32),\n",
              "  array([0.9606171, 0.5237316], dtype=float32),\n",
              "  array([0.96637166, 0.6229007 ], dtype=float32),\n",
              "  array([0.96848136, 0.6557377 ], dtype=float32),\n",
              "  array([0.97241193, 0.70206493], dtype=float32),\n",
              "  array([0.9737776 , 0.71681416], dtype=float32),\n",
              "  array([0.9763693, 0.7452135], dtype=float32),\n",
              "  array([0.9775649, 0.7623189], dtype=float32),\n",
              "  array([0.9779663, 0.7676768], dtype=float32),\n",
              "  array([0.9789214 , 0.77809805], dtype=float32),\n",
              "  array([0.9794689, 0.7838617], dtype=float32),\n",
              "  array([0.98015606, 0.7907648 ], dtype=float32)],\n",
              " 'val_loss': [0.5486470460891724,\n",
              "  0.35073426365852356,\n",
              "  0.23958449065685272,\n",
              "  0.20127703249454498,\n",
              "  0.18515773117542267,\n",
              "  0.17346662282943726,\n",
              "  0.17079496383666992,\n",
              "  0.17114953696727753,\n",
              "  0.18396875262260437,\n",
              "  0.23409168422222137,\n",
              "  0.2429046481847763,\n",
              "  0.18239477276802063,\n",
              "  0.14522241055965424,\n",
              "  0.11467206478118896,\n",
              "  0.10589854419231415,\n",
              "  0.09130633622407913,\n",
              "  0.08706509321928024,\n",
              "  0.09031687676906586,\n",
              "  0.08736728131771088,\n",
              "  0.08178947120904922],\n",
              " 'val_binary_accuracy': [0.8489999771118164,\n",
              "  0.8980000019073486,\n",
              "  0.9139999747276306,\n",
              "  0.9160000085830688,\n",
              "  0.9139999747276306,\n",
              "  0.9169999957084656,\n",
              "  0.9160000085830688,\n",
              "  0.9139999747276306,\n",
              "  0.9150000214576721,\n",
              "  0.9160000085830688,\n",
              "  0.9160000085830688,\n",
              "  0.9300000071525574,\n",
              "  0.9440000057220459,\n",
              "  0.9599999785423279,\n",
              "  0.9589999914169312,\n",
              "  0.968999981880188,\n",
              "  0.9729999899864197,\n",
              "  0.9729999899864197,\n",
              "  0.972000002861023,\n",
              "  0.9739999771118164],\n",
              " 'val_precision_1': [0.8155515193939209,\n",
              "  0.8856589198112488,\n",
              "  0.9107142686843872,\n",
              "  0.9094488024711609,\n",
              "  0.9139999747276306,\n",
              "  0.9195170998573303,\n",
              "  0.9143426418304443,\n",
              "  0.9173387289047241,\n",
              "  0.9158316850662231,\n",
              "  0.9160000085830688,\n",
              "  0.9160000085830688,\n",
              "  0.9282868504524231,\n",
              "  0.9422310590744019,\n",
              "  0.958167314529419,\n",
              "  0.9562624096870422,\n",
              "  0.9699398875236511,\n",
              "  0.9720559120178223,\n",
              "  0.9739478826522827,\n",
              "  0.972000002861023,\n",
              "  0.9739999771118164],\n",
              " 'val_recall_1': [0.9020000100135803,\n",
              "  0.9139999747276306,\n",
              "  0.9179999828338623,\n",
              "  0.9240000247955322,\n",
              "  0.9139999747276306,\n",
              "  0.9139999747276306,\n",
              "  0.9179999828338623,\n",
              "  0.9100000262260437,\n",
              "  0.9139999747276306,\n",
              "  0.9160000085830688,\n",
              "  0.9160000085830688,\n",
              "  0.9319999814033508,\n",
              "  0.9459999799728394,\n",
              "  0.9620000123977661,\n",
              "  0.9620000123977661,\n",
              "  0.9679999947547913,\n",
              "  0.9739999771118164,\n",
              "  0.972000002861023,\n",
              "  0.972000002861023,\n",
              "  0.9739999771118164],\n",
              " 'val_f1_score': [array([0.9214781 , 0.49253735], dtype=float32),\n",
              "  array([0.952381  , 0.18181819], dtype=float32),\n",
              "  array([0.95890415, 0.23529413], dtype=float32),\n",
              "  array([0.9549739 , 0.04444445], dtype=float32),\n",
              "  array([0.95899045, 0.20408162], dtype=float32),\n",
              "  array([0.95715773, 0.04651163], dtype=float32),\n",
              "  array([0.9539749, 0.       ], dtype=float32),\n",
              "  array([0.95506793, 0.        ], dtype=float32),\n",
              "  array([0.9561587, 0.       ], dtype=float32),\n",
              "  array([0.9561587, 0.       ], dtype=float32),\n",
              "  array([0.9561587, 0.       ], dtype=float32),\n",
              "  array([0.9621053 , 0.28000003], dtype=float32),\n",
              "  array([0.97136796, 0.52631575], dtype=float32),\n",
              "  array([0.97863245, 0.6875    ], dtype=float32),\n",
              "  array([0.97758806, 0.6666667 ], dtype=float32),\n",
              "  array([0.9828326, 0.7647059], dtype=float32),\n",
              "  array([0.9859763 , 0.82191783], dtype=float32),\n",
              "  array([0.98491377, 0.80555546], dtype=float32),\n",
              "  array([0.9838536, 0.7887324], dtype=float32),\n",
              "  array([0.9838536, 0.7887324], dtype=float32)]}"
            ]
          },
          "execution_count": 40,
          "metadata": {},
          "output_type": "execute_result"
        }
      ],
      "source": [
        "history.history"
      ]
    },
    {
      "cell_type": "code",
      "execution_count": null,
      "metadata": {
        "colab": {
          "base_uri": "https://localhost:8080/",
          "height": 449
        },
        "id": "TFA6G-WrHXW-",
        "outputId": "f2c850a9-2baa-465d-adec-3883d5015f69"
      },
      "outputs": [
        {
          "data": {
            "image/png": "[encoded data removed]",
            "text/plain": [
              "<Figure size 640x480 with 1 Axes>"
            ]
          },
          "metadata": {},
          "output_type": "display_data"
        }
      ],
      "source": [
        "train_loss = history.history['loss']\n",
        "val_loss = history.history['val_loss']\n",
        "plt.plot(train_loss,label=\"Train Loss\")\n",
        "plt.plot(val_loss,label='Val Loss')\n",
        "plt.xlabel(\"Epoch\")\n",
        "plt.ylabel(\"Loss\")\n",
        "plt.legend()\n",
        "plt.show()"
      ]
    },
    {
      "cell_type": "code",
      "execution_count": null,
      "metadata": {
        "colab": {
          "base_uri": "https://localhost:8080/"
        },
        "id": "k-uYGy4EHXW-",
        "outputId": "be8c50fe-f73d-453f-e4ce-9c16a6415449"
      },
      "outputs": [
        {
          "name": "stdout",
          "output_type": "stream",
          "text": [
            "16/16 [==============================] - 0s 1ms/step - loss: 0.1055 - binary_accuracy: 0.9580 - precision_1: 0.9580 - recall_1: 0.9580 - f1_score: 0.8864\n"
          ]
        }
      ],
      "source": [
        "prediction = model.evaluate(test_ds)"
      ]
    },
    {
      "cell_type": "markdown",
      "metadata": {
        "id": "IuN_D7vSlA6Y"
      },
      "source": [
        "**penjelasan grafik dan model evaluation setelah architectural modifications:**\n",
        "\n",
        "setelah saya melakukan modifikasi pada artitektur tersebut, grafik yang dihasilkan lebih bagus daripada sebelumnya, namun kita tidak dapat melihat perbedaan yang terlalu signifikan. untuk lebih jelasnya, kita dapat melihat perbedaannya melalui metrik evaluasi. keempat metrik yang saya gunakan menghasilkan nilai yang lebih bagus dan mengalami peningkatan daripada sebelumnya.\n",
        "\n",
        "**accuracy** -> nilai binary accuracy yang dihasilkan model ini setelah dilakukan modifikasi pada arsitekturnya adalah 0.9580 dengan kenaikan sebesar 0.0024 dibandingkan dengan sebelumnya.\n",
        "\n",
        "**precision** -> nilai precision yang dihasilkan model ini setelah dilakukan modifikasi pada arsitekturnya adalah 0.9580 dengan kenaikan sebesar 0.0291 dibandingkan dengan sebelumnya.\n",
        "\n",
        "**recall** -> nilai recall yang dihasilkan model ini setelah dilakukan modifikasi pada arsitekturnya adalah 0.9580 dengan kenaikan sebesar 0.0180 dibandingkan dengan sebelumnya.\n",
        "\n",
        "**f1-score** -> nilai f1-score yang dihasilkan model ini setelah dilakukan modifikasi pada arsitekturnya adalah 0.8864 dengan kenaikan sebesar 0.1019 dibandingkan dengan sebelumnya."
      ]
    },
    {
      "cell_type": "markdown",
      "source": [
        "# Presentation Video"
      ],
      "metadata": {
        "id": "vw6u14Zf450R"
      }
    },
    {
      "cell_type": "markdown",
      "source": [
        "link video: https://drive.google.com/file/d/1HzQFX5UxIT3HtYsOGZhAQl42a1cTYtiA/view?usp=sharing"
      ],
      "metadata": {
        "id": "pvpL1RWU5Zp-"
      }
    }
  ],
  "metadata": {
    "accelerator": "GPU",
    "colab": {
      "gpuType": "T4",
      "provenance": []
    },
    "kernelspec": {
      "display_name": "Python 3",
      "name": "python3"
    },
    "language_info": {
      "codemirror_mode": {
        "name": "ipython",
        "version": 3
      },
      "file_extension": ".py",
      "mimetype": "text/x-python",
      "name": "python",
      "nbconvert_exporter": "python",
      "pygments_lexer": "ipython3",
      "version": "3.11.9"
    }
  },
  "nbformat": 4,
  "nbformat_minor": 0
}